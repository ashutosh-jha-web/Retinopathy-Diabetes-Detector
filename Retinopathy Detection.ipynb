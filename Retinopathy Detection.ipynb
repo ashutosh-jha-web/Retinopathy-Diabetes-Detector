{
 "cells": [
  {
   "cell_type": "markdown",
   "id": "9b789fb4",
   "metadata": {},
   "source": [
    "# Importing the Libraries"
   ]
  },
  {
   "cell_type": "code",
   "execution_count": 1,
   "id": "522a5d9a",
   "metadata": {},
   "outputs": [],
   "source": [
    "import numpy as np # used for working with arrays\n",
    "import pandas as pd # used for data analysis\n",
    "import seaborn as sns # used for data visualization\n",
    "import matplotlib.pyplot as plt # used for data visualization from plots, graphs and charts\n",
    "import warnings \n",
    "warnings.filterwarnings('ignore')"
   ]
  },
  {
   "cell_type": "markdown",
   "id": "d1e521e2",
   "metadata": {},
   "source": [
    "# Load the Dataset"
   ]
  },
  {
   "cell_type": "code",
   "execution_count": 2,
   "id": "51b5dec4",
   "metadata": {},
   "outputs": [
    {
     "data": {
      "text/html": [
       "<div>\n",
       "<style scoped>\n",
       "    .dataframe tbody tr th:only-of-type {\n",
       "        vertical-align: middle;\n",
       "    }\n",
       "\n",
       "    .dataframe tbody tr th {\n",
       "        vertical-align: top;\n",
       "    }\n",
       "\n",
       "    .dataframe thead th {\n",
       "        text-align: right;\n",
       "    }\n",
       "</style>\n",
       "<table border=\"1\" class=\"dataframe\">\n",
       "  <thead>\n",
       "    <tr style=\"text-align: right;\">\n",
       "      <th></th>\n",
       "      <th>ID</th>\n",
       "      <th>age</th>\n",
       "      <th>systolic_bp</th>\n",
       "      <th>diastolic_bp</th>\n",
       "      <th>cholesterol</th>\n",
       "      <th>prognosis</th>\n",
       "    </tr>\n",
       "  </thead>\n",
       "  <tbody>\n",
       "    <tr>\n",
       "      <th>0</th>\n",
       "      <td>0</td>\n",
       "      <td>77.196340</td>\n",
       "      <td>85.288742</td>\n",
       "      <td>80.021878</td>\n",
       "      <td>79.957109</td>\n",
       "      <td>retinopathy</td>\n",
       "    </tr>\n",
       "    <tr>\n",
       "      <th>1</th>\n",
       "      <td>1</td>\n",
       "      <td>63.529850</td>\n",
       "      <td>99.379736</td>\n",
       "      <td>84.852361</td>\n",
       "      <td>110.382411</td>\n",
       "      <td>retinopathy</td>\n",
       "    </tr>\n",
       "    <tr>\n",
       "      <th>2</th>\n",
       "      <td>2</td>\n",
       "      <td>69.003986</td>\n",
       "      <td>111.349455</td>\n",
       "      <td>109.850616</td>\n",
       "      <td>100.828246</td>\n",
       "      <td>retinopathy</td>\n",
       "    </tr>\n",
       "    <tr>\n",
       "      <th>3</th>\n",
       "      <td>3</td>\n",
       "      <td>82.638210</td>\n",
       "      <td>95.056128</td>\n",
       "      <td>79.666851</td>\n",
       "      <td>87.066303</td>\n",
       "      <td>retinopathy</td>\n",
       "    </tr>\n",
       "    <tr>\n",
       "      <th>4</th>\n",
       "      <td>4</td>\n",
       "      <td>78.346286</td>\n",
       "      <td>109.154591</td>\n",
       "      <td>90.713220</td>\n",
       "      <td>92.511770</td>\n",
       "      <td>retinopathy</td>\n",
       "    </tr>\n",
       "    <tr>\n",
       "      <th>...</th>\n",
       "      <td>...</td>\n",
       "      <td>...</td>\n",
       "      <td>...</td>\n",
       "      <td>...</td>\n",
       "      <td>...</td>\n",
       "      <td>...</td>\n",
       "    </tr>\n",
       "    <tr>\n",
       "      <th>5995</th>\n",
       "      <td>5995</td>\n",
       "      <td>49.611850</td>\n",
       "      <td>94.857639</td>\n",
       "      <td>86.615671</td>\n",
       "      <td>107.643986</td>\n",
       "      <td>no_retinopathy</td>\n",
       "    </tr>\n",
       "    <tr>\n",
       "      <th>5996</th>\n",
       "      <td>5996</td>\n",
       "      <td>63.099686</td>\n",
       "      <td>100.039527</td>\n",
       "      <td>93.515186</td>\n",
       "      <td>104.971404</td>\n",
       "      <td>retinopathy</td>\n",
       "    </tr>\n",
       "    <tr>\n",
       "      <th>5997</th>\n",
       "      <td>5997</td>\n",
       "      <td>55.562243</td>\n",
       "      <td>98.421446</td>\n",
       "      <td>102.697875</td>\n",
       "      <td>120.875951</td>\n",
       "      <td>retinopathy</td>\n",
       "    </tr>\n",
       "    <tr>\n",
       "      <th>5998</th>\n",
       "      <td>5998</td>\n",
       "      <td>63.468956</td>\n",
       "      <td>106.809289</td>\n",
       "      <td>88.060631</td>\n",
       "      <td>106.052213</td>\n",
       "      <td>retinopathy</td>\n",
       "    </tr>\n",
       "    <tr>\n",
       "      <th>5999</th>\n",
       "      <td>5999</td>\n",
       "      <td>62.506825</td>\n",
       "      <td>96.900784</td>\n",
       "      <td>86.878033</td>\n",
       "      <td>108.625436</td>\n",
       "      <td>no_retinopathy</td>\n",
       "    </tr>\n",
       "  </tbody>\n",
       "</table>\n",
       "<p>6000 rows × 6 columns</p>\n",
       "</div>"
      ],
      "text/plain": [
       "        ID        age  systolic_bp  diastolic_bp  cholesterol       prognosis\n",
       "0        0  77.196340    85.288742     80.021878    79.957109     retinopathy\n",
       "1        1  63.529850    99.379736     84.852361   110.382411     retinopathy\n",
       "2        2  69.003986   111.349455    109.850616   100.828246     retinopathy\n",
       "3        3  82.638210    95.056128     79.666851    87.066303     retinopathy\n",
       "4        4  78.346286   109.154591     90.713220    92.511770     retinopathy\n",
       "...    ...        ...          ...           ...          ...             ...\n",
       "5995  5995  49.611850    94.857639     86.615671   107.643986  no_retinopathy\n",
       "5996  5996  63.099686   100.039527     93.515186   104.971404     retinopathy\n",
       "5997  5997  55.562243    98.421446    102.697875   120.875951     retinopathy\n",
       "5998  5998  63.468956   106.809289     88.060631   106.052213     retinopathy\n",
       "5999  5999  62.506825    96.900784     86.878033   108.625436  no_retinopathy\n",
       "\n",
       "[6000 rows x 6 columns]"
      ]
     },
     "execution_count": 2,
     "metadata": {},
     "output_type": "execute_result"
    }
   ],
   "source": [
    "data = pd.read_csv('pronostico_dataset.csv',delimiter=';') # reading the data \n",
    "data # original data\n",
    "# we have 5 features - ID, age, systolic_bp, diastolic_bp, cholestrol\n",
    "# we have 1 target variable - prognosis{retinopathy,no_retinopathy}"
   ]
  },
  {
   "cell_type": "markdown",
   "id": "2c45b469",
   "metadata": {},
   "source": [
    "# EDA :- Exploratory Data Analysis"
   ]
  },
  {
   "cell_type": "markdown",
   "id": "52031a64",
   "metadata": {},
   "source": [
    "## 1. Basic Information about the Data"
   ]
  },
  {
   "cell_type": "code",
   "execution_count": 3,
   "id": "e74575b4",
   "metadata": {},
   "outputs": [
    {
     "name": "stdout",
     "output_type": "stream",
     "text": [
      "<class 'pandas.core.frame.DataFrame'>\n",
      "RangeIndex: 6000 entries, 0 to 5999\n",
      "Data columns (total 6 columns):\n",
      " #   Column        Non-Null Count  Dtype  \n",
      "---  ------        --------------  -----  \n",
      " 0   ID            6000 non-null   int64  \n",
      " 1   age           6000 non-null   float64\n",
      " 2   systolic_bp   6000 non-null   float64\n",
      " 3   diastolic_bp  6000 non-null   float64\n",
      " 4   cholesterol   6000 non-null   float64\n",
      " 5   prognosis     6000 non-null   object \n",
      "dtypes: float64(4), int64(1), object(1)\n",
      "memory usage: 281.4+ KB\n"
     ]
    }
   ],
   "source": [
    "data.info() # some information about the data\n",
    "# there are no null values with 6000 records in each columns\n",
    "# ID datatype is integer type and other features are having float datatype\n",
    "# target variable i.e. prognosis is having object datatype "
   ]
  },
  {
   "cell_type": "code",
   "execution_count": 4,
   "id": "3ee39b8e",
   "metadata": {},
   "outputs": [
    {
     "data": {
      "text/html": [
       "<div>\n",
       "<style scoped>\n",
       "    .dataframe tbody tr th:only-of-type {\n",
       "        vertical-align: middle;\n",
       "    }\n",
       "\n",
       "    .dataframe tbody tr th {\n",
       "        vertical-align: top;\n",
       "    }\n",
       "\n",
       "    .dataframe thead th {\n",
       "        text-align: right;\n",
       "    }\n",
       "</style>\n",
       "<table border=\"1\" class=\"dataframe\">\n",
       "  <thead>\n",
       "    <tr style=\"text-align: right;\">\n",
       "      <th></th>\n",
       "      <th>ID</th>\n",
       "      <th>age</th>\n",
       "      <th>systolic_bp</th>\n",
       "      <th>diastolic_bp</th>\n",
       "      <th>cholesterol</th>\n",
       "    </tr>\n",
       "  </thead>\n",
       "  <tbody>\n",
       "    <tr>\n",
       "      <th>count</th>\n",
       "      <td>6000.000000</td>\n",
       "      <td>6000.000000</td>\n",
       "      <td>6000.000000</td>\n",
       "      <td>6000.000000</td>\n",
       "      <td>6000.000000</td>\n",
       "    </tr>\n",
       "    <tr>\n",
       "      <th>mean</th>\n",
       "      <td>2999.500000</td>\n",
       "      <td>60.464121</td>\n",
       "      <td>100.694822</td>\n",
       "      <td>90.505547</td>\n",
       "      <td>100.628255</td>\n",
       "    </tr>\n",
       "    <tr>\n",
       "      <th>std</th>\n",
       "      <td>1732.195139</td>\n",
       "      <td>8.564392</td>\n",
       "      <td>10.669267</td>\n",
       "      <td>9.648200</td>\n",
       "      <td>10.433915</td>\n",
       "    </tr>\n",
       "    <tr>\n",
       "      <th>min</th>\n",
       "      <td>0.000000</td>\n",
       "      <td>35.164761</td>\n",
       "      <td>69.675429</td>\n",
       "      <td>62.807105</td>\n",
       "      <td>69.967453</td>\n",
       "    </tr>\n",
       "    <tr>\n",
       "      <th>25%</th>\n",
       "      <td>1499.750000</td>\n",
       "      <td>54.371941</td>\n",
       "      <td>93.267420</td>\n",
       "      <td>83.641788</td>\n",
       "      <td>93.202373</td>\n",
       "    </tr>\n",
       "    <tr>\n",
       "      <th>50%</th>\n",
       "      <td>2999.500000</td>\n",
       "      <td>59.831159</td>\n",
       "      <td>100.119926</td>\n",
       "      <td>89.912429</td>\n",
       "      <td>100.060637</td>\n",
       "    </tr>\n",
       "    <tr>\n",
       "      <th>75%</th>\n",
       "      <td>4499.250000</td>\n",
       "      <td>65.809652</td>\n",
       "      <td>107.439501</td>\n",
       "      <td>96.682405</td>\n",
       "      <td>107.250829</td>\n",
       "    </tr>\n",
       "    <tr>\n",
       "      <th>max</th>\n",
       "      <td>5999.000000</td>\n",
       "      <td>103.279497</td>\n",
       "      <td>151.699660</td>\n",
       "      <td>133.456382</td>\n",
       "      <td>148.233544</td>\n",
       "    </tr>\n",
       "  </tbody>\n",
       "</table>\n",
       "</div>"
      ],
      "text/plain": [
       "                ID          age  systolic_bp  diastolic_bp  cholesterol\n",
       "count  6000.000000  6000.000000  6000.000000   6000.000000  6000.000000\n",
       "mean   2999.500000    60.464121   100.694822     90.505547   100.628255\n",
       "std    1732.195139     8.564392    10.669267      9.648200    10.433915\n",
       "min       0.000000    35.164761    69.675429     62.807105    69.967453\n",
       "25%    1499.750000    54.371941    93.267420     83.641788    93.202373\n",
       "50%    2999.500000    59.831159   100.119926     89.912429   100.060637\n",
       "75%    4499.250000    65.809652   107.439501     96.682405   107.250829\n",
       "max    5999.000000   103.279497   151.699660    133.456382   148.233544"
      ]
     },
     "execution_count": 4,
     "metadata": {},
     "output_type": "execute_result"
    }
   ],
   "source": [
    "data.describe() # descriptive statistics summary of a given dataframe"
   ]
  },
  {
   "cell_type": "markdown",
   "id": "3a30d628",
   "metadata": {},
   "source": [
    "## 2. Checking the Duplicate values"
   ]
  },
  {
   "cell_type": "code",
   "execution_count": 5,
   "id": "a895066d",
   "metadata": {},
   "outputs": [
    {
     "data": {
      "text/plain": [
       "0"
      ]
     },
     "execution_count": 5,
     "metadata": {},
     "output_type": "execute_result"
    }
   ],
   "source": [
    "data.duplicated().sum() # checking duplicate values"
   ]
  },
  {
   "cell_type": "markdown",
   "id": "88d3b0aa",
   "metadata": {},
   "source": [
    "## 3. Checking the Unique Values"
   ]
  },
  {
   "cell_type": "code",
   "execution_count": 6,
   "id": "cc7fda4e",
   "metadata": {},
   "outputs": [
    {
     "data": {
      "text/plain": [
       "array(['retinopathy', 'no_retinopathy'], dtype=object)"
      ]
     },
     "execution_count": 6,
     "metadata": {},
     "output_type": "execute_result"
    }
   ],
   "source": [
    "data['prognosis'].unique() # classes in target variable"
   ]
  },
  {
   "cell_type": "markdown",
   "id": "2c026a16",
   "metadata": {},
   "source": [
    "## 4. Finding the Null Values"
   ]
  },
  {
   "cell_type": "code",
   "execution_count": 7,
   "id": "dc4bf22b",
   "metadata": {},
   "outputs": [
    {
     "data": {
      "text/plain": [
       "ID              0\n",
       "age             0\n",
       "systolic_bp     0\n",
       "diastolic_bp    0\n",
       "cholesterol     0\n",
       "prognosis       0\n",
       "dtype: int64"
      ]
     },
     "execution_count": 7,
     "metadata": {},
     "output_type": "execute_result"
    }
   ],
   "source": [
    "data.isnull().sum() # checking null values"
   ]
  },
  {
   "cell_type": "markdown",
   "id": "1b8f4690",
   "metadata": {},
   "source": [
    "## 5. Visualize the Unique Counts of \"Target Vairable\""
   ]
  },
  {
   "cell_type": "code",
   "execution_count": 8,
   "id": "b1398bc6",
   "metadata": {},
   "outputs": [
    {
     "data": {
      "text/plain": [
       "retinopathy       3087\n",
       "no_retinopathy    2913\n",
       "Name: prognosis, dtype: int64"
      ]
     },
     "execution_count": 8,
     "metadata": {},
     "output_type": "execute_result"
    }
   ],
   "source": [
    "data['prognosis'].value_counts() # count of each class in target variable"
   ]
  },
  {
   "cell_type": "code",
   "execution_count": 9,
   "id": "26dcce11",
   "metadata": {},
   "outputs": [
    {
     "data": {
      "text/plain": [
       "retinopathy       0.5145\n",
       "no_retinopathy    0.4855\n",
       "Name: prognosis, dtype: float64"
      ]
     },
     "execution_count": 9,
     "metadata": {},
     "output_type": "execute_result"
    }
   ],
   "source": [
    "data['prognosis'].value_counts(normalize=True) \n",
    "# percentage of retinopathy - 51.45%\n",
    "# percentage of no_retinopathy - 48.55%"
   ]
  },
  {
   "cell_type": "code",
   "execution_count": 10,
   "id": "e1d19376",
   "metadata": {},
   "outputs": [
    {
     "data": {
      "image/png": "[encoded data removed]",
      "text/plain": [
       "<Figure size 432x288 with 1 Axes>"
      ]
     },
     "metadata": {
      "needs_background": "light"
     },
     "output_type": "display_data"
    }
   ],
   "source": [
    "data['prognosis'].value_counts().plot(kind='bar')\n",
    "plt.title(\"Value Counts of the Target Variable\")\n",
    "plt.xlabel(\"Prognosis\")\n",
    "plt.ylabel(\"Count\")\n",
    "plt.show()"
   ]
  },
  {
   "cell_type": "markdown",
   "id": "a448928f",
   "metadata": {},
   "source": [
    "## 6. Encoding the Target Variable"
   ]
  },
  {
   "cell_type": "code",
   "execution_count": 11,
   "id": "14df4117",
   "metadata": {},
   "outputs": [],
   "source": [
    "from sklearn import preprocessing\n",
    "label_encoder = preprocessing.LabelEncoder() \n",
    "data['prognosis'] = label_encoder.fit_transform(data['prognosis'])\n",
    "# Label encoding refers to converting the labels into numeric from\n",
    "# so as to convert them into the machine-readable form."
   ]
  },
  {
   "cell_type": "code",
   "execution_count": 12,
   "id": "756639c6",
   "metadata": {},
   "outputs": [
    {
     "data": {
      "text/plain": [
       "array([1, 0])"
      ]
     },
     "execution_count": 12,
     "metadata": {},
     "output_type": "execute_result"
    }
   ],
   "source": [
    "data['prognosis'].unique() \n",
    "# after encoding the target class we have 2 classes "
   ]
  },
  {
   "cell_type": "markdown",
   "id": "3327f827",
   "metadata": {},
   "source": [
    "### 1 -> Retinopathy  0 -> No Retinopathy "
   ]
  },
  {
   "cell_type": "markdown",
   "id": "f74823e4",
   "metadata": {},
   "source": [
    "## 7. Visualizing the Boxplots"
   ]
  },
  {
   "cell_type": "code",
   "execution_count": 13,
   "id": "ce4245c3",
   "metadata": {},
   "outputs": [
    {
     "data": {
      "text/plain": [
       "<AxesSubplot:xlabel='cholesterol'>"
      ]
     },
     "execution_count": 13,
     "metadata": {},
     "output_type": "execute_result"
    },
    {
     "data": {
      "image/png": "[encoded data removed]",
      "text/plain": [
       "<Figure size 576x432 with 4 Axes>"
      ]
     },
     "metadata": {
      "needs_background": "light"
     },
     "output_type": "display_data"
    }
   ],
   "source": [
    "plt.figure(figsize=(8,6))\n",
    "plt.subplot(2,2,1)\n",
    "sns.boxplot(x=data['age'],data=data)\n",
    "plt.subplot(2,2,2)\n",
    "sns.boxplot(x=data['systolic_bp'],data=data)\n",
    "plt.subplot(2,2,3)\n",
    "sns.boxplot(x=data['diastolic_bp'],data=data)\n",
    "plt.subplot(2,2,4)\n",
    "sns.boxplot(x=data['cholesterol'],data=data)"
   ]
  },
  {
   "cell_type": "markdown",
   "id": "260f27ff",
   "metadata": {},
   "source": [
    "## 8. Handling the Outliers\n",
    "\n",
    "##### We will use z score to check the outliers and to handle it\n",
    "##### If z score is more than 3 that means that data point is an outlier\n",
    "##### We will drop those records from our dataset"
   ]
  },
  {
   "cell_type": "code",
   "execution_count": 14,
   "id": "cf77d4eb",
   "metadata": {},
   "outputs": [],
   "source": [
    "from scipy.stats import zscore"
   ]
  },
  {
   "cell_type": "code",
   "execution_count": 15,
   "id": "a440ce32",
   "metadata": {},
   "outputs": [],
   "source": [
    "z_score = np.abs(zscore(data.iloc[:,1:6]))"
   ]
  },
  {
   "cell_type": "code",
   "execution_count": 16,
   "id": "82474289",
   "metadata": {},
   "outputs": [
    {
     "data": {
      "text/plain": [
       "array([[1.95385881, 1.44408831, 1.08668383, 1.98131478, 0.97140856],\n",
       "       [0.35799212, 0.12326958, 0.58598051, 0.93492889, 0.97140856],\n",
       "       [0.9972193 , 0.9987116 , 2.00521155, 0.01916893, 0.97140856],\n",
       "       ...,\n",
       "       [0.57240332, 0.21309482, 1.26379482, 1.94072729, 0.97140856],\n",
       "       [0.3508814 , 0.5731393 , 0.25342752, 0.51988249, 0.97140856],\n",
       "       [0.23853111, 0.35563406, 0.37600957, 0.7665241 , 1.02943297]])"
      ]
     },
     "execution_count": 16,
     "metadata": {},
     "output_type": "execute_result"
    }
   ],
   "source": [
    "z_score"
   ]
  },
  {
   "cell_type": "code",
   "execution_count": 17,
   "id": "3c89d90e",
   "metadata": {},
   "outputs": [
    {
     "data": {
      "text/plain": [
       "(2, 95)"
      ]
     },
     "execution_count": 17,
     "metadata": {},
     "output_type": "execute_result"
    }
   ],
   "source": [
    "np.shape(np.where(z_score>3))"
   ]
  },
  {
   "cell_type": "code",
   "execution_count": 18,
   "id": "6ea47e7e",
   "metadata": {},
   "outputs": [],
   "source": [
    "data_new = data[(z_score<3).all(axis=1)]"
   ]
  },
  {
   "cell_type": "code",
   "execution_count": 19,
   "id": "c64bb752",
   "metadata": {},
   "outputs": [
    {
     "data": {
      "text/html": [
       "<div>\n",
       "<style scoped>\n",
       "    .dataframe tbody tr th:only-of-type {\n",
       "        vertical-align: middle;\n",
       "    }\n",
       "\n",
       "    .dataframe tbody tr th {\n",
       "        vertical-align: top;\n",
       "    }\n",
       "\n",
       "    .dataframe thead th {\n",
       "        text-align: right;\n",
       "    }\n",
       "</style>\n",
       "<table border=\"1\" class=\"dataframe\">\n",
       "  <thead>\n",
       "    <tr style=\"text-align: right;\">\n",
       "      <th></th>\n",
       "      <th>ID</th>\n",
       "      <th>age</th>\n",
       "      <th>systolic_bp</th>\n",
       "      <th>diastolic_bp</th>\n",
       "      <th>cholesterol</th>\n",
       "      <th>prognosis</th>\n",
       "    </tr>\n",
       "  </thead>\n",
       "  <tbody>\n",
       "    <tr>\n",
       "      <th>0</th>\n",
       "      <td>0</td>\n",
       "      <td>77.196340</td>\n",
       "      <td>85.288742</td>\n",
       "      <td>80.021878</td>\n",
       "      <td>79.957109</td>\n",
       "      <td>1</td>\n",
       "    </tr>\n",
       "    <tr>\n",
       "      <th>1</th>\n",
       "      <td>1</td>\n",
       "      <td>63.529850</td>\n",
       "      <td>99.379736</td>\n",
       "      <td>84.852361</td>\n",
       "      <td>110.382411</td>\n",
       "      <td>1</td>\n",
       "    </tr>\n",
       "    <tr>\n",
       "      <th>2</th>\n",
       "      <td>2</td>\n",
       "      <td>69.003986</td>\n",
       "      <td>111.349455</td>\n",
       "      <td>109.850616</td>\n",
       "      <td>100.828246</td>\n",
       "      <td>1</td>\n",
       "    </tr>\n",
       "    <tr>\n",
       "      <th>3</th>\n",
       "      <td>3</td>\n",
       "      <td>82.638210</td>\n",
       "      <td>95.056128</td>\n",
       "      <td>79.666851</td>\n",
       "      <td>87.066303</td>\n",
       "      <td>1</td>\n",
       "    </tr>\n",
       "    <tr>\n",
       "      <th>4</th>\n",
       "      <td>4</td>\n",
       "      <td>78.346286</td>\n",
       "      <td>109.154591</td>\n",
       "      <td>90.713220</td>\n",
       "      <td>92.511770</td>\n",
       "      <td>1</td>\n",
       "    </tr>\n",
       "    <tr>\n",
       "      <th>...</th>\n",
       "      <td>...</td>\n",
       "      <td>...</td>\n",
       "      <td>...</td>\n",
       "      <td>...</td>\n",
       "      <td>...</td>\n",
       "      <td>...</td>\n",
       "    </tr>\n",
       "    <tr>\n",
       "      <th>5995</th>\n",
       "      <td>5995</td>\n",
       "      <td>49.611850</td>\n",
       "      <td>94.857639</td>\n",
       "      <td>86.615671</td>\n",
       "      <td>107.643986</td>\n",
       "      <td>0</td>\n",
       "    </tr>\n",
       "    <tr>\n",
       "      <th>5996</th>\n",
       "      <td>5996</td>\n",
       "      <td>63.099686</td>\n",
       "      <td>100.039527</td>\n",
       "      <td>93.515186</td>\n",
       "      <td>104.971404</td>\n",
       "      <td>1</td>\n",
       "    </tr>\n",
       "    <tr>\n",
       "      <th>5997</th>\n",
       "      <td>5997</td>\n",
       "      <td>55.562243</td>\n",
       "      <td>98.421446</td>\n",
       "      <td>102.697875</td>\n",
       "      <td>120.875951</td>\n",
       "      <td>1</td>\n",
       "    </tr>\n",
       "    <tr>\n",
       "      <th>5998</th>\n",
       "      <td>5998</td>\n",
       "      <td>63.468956</td>\n",
       "      <td>106.809289</td>\n",
       "      <td>88.060631</td>\n",
       "      <td>106.052213</td>\n",
       "      <td>1</td>\n",
       "    </tr>\n",
       "    <tr>\n",
       "      <th>5999</th>\n",
       "      <td>5999</td>\n",
       "      <td>62.506825</td>\n",
       "      <td>96.900784</td>\n",
       "      <td>86.878033</td>\n",
       "      <td>108.625436</td>\n",
       "      <td>0</td>\n",
       "    </tr>\n",
       "  </tbody>\n",
       "</table>\n",
       "<p>5907 rows × 6 columns</p>\n",
       "</div>"
      ],
      "text/plain": [
       "        ID        age  systolic_bp  diastolic_bp  cholesterol  prognosis\n",
       "0        0  77.196340    85.288742     80.021878    79.957109          1\n",
       "1        1  63.529850    99.379736     84.852361   110.382411          1\n",
       "2        2  69.003986   111.349455    109.850616   100.828246          1\n",
       "3        3  82.638210    95.056128     79.666851    87.066303          1\n",
       "4        4  78.346286   109.154591     90.713220    92.511770          1\n",
       "...    ...        ...          ...           ...          ...        ...\n",
       "5995  5995  49.611850    94.857639     86.615671   107.643986          0\n",
       "5996  5996  63.099686   100.039527     93.515186   104.971404          1\n",
       "5997  5997  55.562243    98.421446    102.697875   120.875951          1\n",
       "5998  5998  63.468956   106.809289     88.060631   106.052213          1\n",
       "5999  5999  62.506825    96.900784     86.878033   108.625436          0\n",
       "\n",
       "[5907 rows x 6 columns]"
      ]
     },
     "execution_count": 19,
     "metadata": {},
     "output_type": "execute_result"
    }
   ],
   "source": [
    "data_new"
   ]
  },
  {
   "cell_type": "markdown",
   "id": "73a958d4",
   "metadata": {},
   "source": [
    "## 9. Dropping ID column"
   ]
  },
  {
   "cell_type": "code",
   "execution_count": 20,
   "id": "21927ff0",
   "metadata": {},
   "outputs": [],
   "source": [
    "data_new = data_new.drop(columns='ID',axis=1)"
   ]
  },
  {
   "cell_type": "code",
   "execution_count": 21,
   "id": "51cb0ee8",
   "metadata": {},
   "outputs": [
    {
     "data": {
      "text/html": [
       "<div>\n",
       "<style scoped>\n",
       "    .dataframe tbody tr th:only-of-type {\n",
       "        vertical-align: middle;\n",
       "    }\n",
       "\n",
       "    .dataframe tbody tr th {\n",
       "        vertical-align: top;\n",
       "    }\n",
       "\n",
       "    .dataframe thead th {\n",
       "        text-align: right;\n",
       "    }\n",
       "</style>\n",
       "<table border=\"1\" class=\"dataframe\">\n",
       "  <thead>\n",
       "    <tr style=\"text-align: right;\">\n",
       "      <th></th>\n",
       "      <th>age</th>\n",
       "      <th>systolic_bp</th>\n",
       "      <th>diastolic_bp</th>\n",
       "      <th>cholesterol</th>\n",
       "      <th>prognosis</th>\n",
       "    </tr>\n",
       "  </thead>\n",
       "  <tbody>\n",
       "    <tr>\n",
       "      <th>0</th>\n",
       "      <td>77.196340</td>\n",
       "      <td>85.288742</td>\n",
       "      <td>80.021878</td>\n",
       "      <td>79.957109</td>\n",
       "      <td>1</td>\n",
       "    </tr>\n",
       "    <tr>\n",
       "      <th>1</th>\n",
       "      <td>63.529850</td>\n",
       "      <td>99.379736</td>\n",
       "      <td>84.852361</td>\n",
       "      <td>110.382411</td>\n",
       "      <td>1</td>\n",
       "    </tr>\n",
       "    <tr>\n",
       "      <th>2</th>\n",
       "      <td>69.003986</td>\n",
       "      <td>111.349455</td>\n",
       "      <td>109.850616</td>\n",
       "      <td>100.828246</td>\n",
       "      <td>1</td>\n",
       "    </tr>\n",
       "    <tr>\n",
       "      <th>3</th>\n",
       "      <td>82.638210</td>\n",
       "      <td>95.056128</td>\n",
       "      <td>79.666851</td>\n",
       "      <td>87.066303</td>\n",
       "      <td>1</td>\n",
       "    </tr>\n",
       "    <tr>\n",
       "      <th>4</th>\n",
       "      <td>78.346286</td>\n",
       "      <td>109.154591</td>\n",
       "      <td>90.713220</td>\n",
       "      <td>92.511770</td>\n",
       "      <td>1</td>\n",
       "    </tr>\n",
       "    <tr>\n",
       "      <th>...</th>\n",
       "      <td>...</td>\n",
       "      <td>...</td>\n",
       "      <td>...</td>\n",
       "      <td>...</td>\n",
       "      <td>...</td>\n",
       "    </tr>\n",
       "    <tr>\n",
       "      <th>5995</th>\n",
       "      <td>49.611850</td>\n",
       "      <td>94.857639</td>\n",
       "      <td>86.615671</td>\n",
       "      <td>107.643986</td>\n",
       "      <td>0</td>\n",
       "    </tr>\n",
       "    <tr>\n",
       "      <th>5996</th>\n",
       "      <td>63.099686</td>\n",
       "      <td>100.039527</td>\n",
       "      <td>93.515186</td>\n",
       "      <td>104.971404</td>\n",
       "      <td>1</td>\n",
       "    </tr>\n",
       "    <tr>\n",
       "      <th>5997</th>\n",
       "      <td>55.562243</td>\n",
       "      <td>98.421446</td>\n",
       "      <td>102.697875</td>\n",
       "      <td>120.875951</td>\n",
       "      <td>1</td>\n",
       "    </tr>\n",
       "    <tr>\n",
       "      <th>5998</th>\n",
       "      <td>63.468956</td>\n",
       "      <td>106.809289</td>\n",
       "      <td>88.060631</td>\n",
       "      <td>106.052213</td>\n",
       "      <td>1</td>\n",
       "    </tr>\n",
       "    <tr>\n",
       "      <th>5999</th>\n",
       "      <td>62.506825</td>\n",
       "      <td>96.900784</td>\n",
       "      <td>86.878033</td>\n",
       "      <td>108.625436</td>\n",
       "      <td>0</td>\n",
       "    </tr>\n",
       "  </tbody>\n",
       "</table>\n",
       "<p>5907 rows × 5 columns</p>\n",
       "</div>"
      ],
      "text/plain": [
       "            age  systolic_bp  diastolic_bp  cholesterol  prognosis\n",
       "0     77.196340    85.288742     80.021878    79.957109          1\n",
       "1     63.529850    99.379736     84.852361   110.382411          1\n",
       "2     69.003986   111.349455    109.850616   100.828246          1\n",
       "3     82.638210    95.056128     79.666851    87.066303          1\n",
       "4     78.346286   109.154591     90.713220    92.511770          1\n",
       "...         ...          ...           ...          ...        ...\n",
       "5995  49.611850    94.857639     86.615671   107.643986          0\n",
       "5996  63.099686   100.039527     93.515186   104.971404          1\n",
       "5997  55.562243    98.421446    102.697875   120.875951          1\n",
       "5998  63.468956   106.809289     88.060631   106.052213          1\n",
       "5999  62.506825    96.900784     86.878033   108.625436          0\n",
       "\n",
       "[5907 rows x 5 columns]"
      ]
     },
     "execution_count": 21,
     "metadata": {},
     "output_type": "execute_result"
    }
   ],
   "source": [
    "data_new"
   ]
  },
  {
   "cell_type": "markdown",
   "id": "00c7ec37",
   "metadata": {},
   "source": [
    "## 10. Checking for Multicollinearity "
   ]
  },
  {
   "cell_type": "code",
   "execution_count": 22,
   "id": "8effbc5c",
   "metadata": {},
   "outputs": [],
   "source": [
    "import statsmodels.formula.api as smf\n",
    "import statsmodels.api as sm"
   ]
  },
  {
   "cell_type": "code",
   "execution_count": 23,
   "id": "43f369b7",
   "metadata": {},
   "outputs": [],
   "source": [
    "model = smf.ols('prognosis~age+systolic_bp+diastolic_bp+cholesterol', data = data_new).fit()"
   ]
  },
  {
   "cell_type": "code",
   "execution_count": 24,
   "id": "af896273",
   "metadata": {},
   "outputs": [
    {
     "data": {
      "text/html": [
       "<table class=\"simpletable\">\n",
       "<caption>OLS Regression Results</caption>\n",
       "<tr>\n",
       "  <th>Dep. Variable:</th>        <td>prognosis</td>    <th>  R-squared:         </th> <td>   0.292</td>\n",
       "</tr>\n",
       "<tr>\n",
       "  <th>Model:</th>                   <td>OLS</td>       <th>  Adj. R-squared:    </th> <td>   0.292</td>\n",
       "</tr>\n",
       "<tr>\n",
       "  <th>Method:</th>             <td>Least Squares</td>  <th>  F-statistic:       </th> <td>   609.0</td>\n",
       "</tr>\n",
       "<tr>\n",
       "  <th>Date:</th>             <td>Mon, 17 Oct 2022</td> <th>  Prob (F-statistic):</th>  <td>  0.00</td> \n",
       "</tr>\n",
       "<tr>\n",
       "  <th>Time:</th>                 <td>20:51:43</td>     <th>  Log-Likelihood:    </th> <td> -3265.7</td>\n",
       "</tr>\n",
       "<tr>\n",
       "  <th>No. Observations:</th>      <td>  5907</td>      <th>  AIC:               </th> <td>   6541.</td>\n",
       "</tr>\n",
       "<tr>\n",
       "  <th>Df Residuals:</th>          <td>  5902</td>      <th>  BIC:               </th> <td>   6575.</td>\n",
       "</tr>\n",
       "<tr>\n",
       "  <th>Df Model:</th>              <td>     4</td>      <th>                     </th>     <td> </td>   \n",
       "</tr>\n",
       "<tr>\n",
       "  <th>Covariance Type:</th>      <td>nonrobust</td>    <th>                     </th>     <td> </td>   \n",
       "</tr>\n",
       "</table>\n",
       "<table class=\"simpletable\">\n",
       "<tr>\n",
       "        <td></td>          <th>coef</th>     <th>std err</th>      <th>t</th>      <th>P>|t|</th>  <th>[0.025</th>    <th>0.975]</th>  \n",
       "</tr>\n",
       "<tr>\n",
       "  <th>Intercept</th>    <td>   -3.0980</td> <td>    0.080</td> <td>  -38.920</td> <td> 0.000</td> <td>   -3.254</td> <td>   -2.942</td>\n",
       "</tr>\n",
       "<tr>\n",
       "  <th>age</th>          <td>    0.0226</td> <td>    0.001</td> <td>   34.339</td> <td> 0.000</td> <td>    0.021</td> <td>    0.024</td>\n",
       "</tr>\n",
       "<tr>\n",
       "  <th>systolic_bp</th>  <td>    0.0119</td> <td>    0.001</td> <td>   19.829</td> <td> 0.000</td> <td>    0.011</td> <td>    0.013</td>\n",
       "</tr>\n",
       "<tr>\n",
       "  <th>diastolic_bp</th> <td>-8.688e-05</td> <td>    0.001</td> <td>   -0.132</td> <td> 0.895</td> <td>   -0.001</td> <td>    0.001</td>\n",
       "</tr>\n",
       "<tr>\n",
       "  <th>cholesterol</th>  <td>    0.0106</td> <td>    0.001</td> <td>   17.359</td> <td> 0.000</td> <td>    0.009</td> <td>    0.012</td>\n",
       "</tr>\n",
       "</table>\n",
       "<table class=\"simpletable\">\n",
       "<tr>\n",
       "  <th>Omnibus:</th>       <td>1411.062</td> <th>  Durbin-Watson:     </th> <td>   1.997</td>\n",
       "</tr>\n",
       "<tr>\n",
       "  <th>Prob(Omnibus):</th>  <td> 0.000</td>  <th>  Jarque-Bera (JB):  </th> <td> 252.227</td>\n",
       "</tr>\n",
       "<tr>\n",
       "  <th>Skew:</th>           <td>-0.039</td>  <th>  Prob(JB):          </th> <td>1.70e-55</td>\n",
       "</tr>\n",
       "<tr>\n",
       "  <th>Kurtosis:</th>       <td> 1.991</td>  <th>  Cond. No.          </th> <td>2.61e+03</td>\n",
       "</tr>\n",
       "</table><br/><br/>Notes:<br/>[1] Standard Errors assume that the covariance matrix of the errors is correctly specified.<br/>[2] The condition number is large, 2.61e+03. This might indicate that there are<br/>strong multicollinearity or other numerical problems."
      ],
      "text/plain": [
       "<class 'statsmodels.iolib.summary.Summary'>\n",
       "\"\"\"\n",
       "                            OLS Regression Results                            \n",
       "==============================================================================\n",
       "Dep. Variable:              prognosis   R-squared:                       0.292\n",
       "Model:                            OLS   Adj. R-squared:                  0.292\n",
       "Method:                 Least Squares   F-statistic:                     609.0\n",
       "Date:                Mon, 17 Oct 2022   Prob (F-statistic):               0.00\n",
       "Time:                        20:51:43   Log-Likelihood:                -3265.7\n",
       "No. Observations:                5907   AIC:                             6541.\n",
       "Df Residuals:                    5902   BIC:                             6575.\n",
       "Df Model:                           4                                         \n",
       "Covariance Type:            nonrobust                                         \n",
       "================================================================================\n",
       "                   coef    std err          t      P>|t|      [0.025      0.975]\n",
       "--------------------------------------------------------------------------------\n",
       "Intercept       -3.0980      0.080    -38.920      0.000      -3.254      -2.942\n",
       "age              0.0226      0.001     34.339      0.000       0.021       0.024\n",
       "systolic_bp      0.0119      0.001     19.829      0.000       0.011       0.013\n",
       "diastolic_bp -8.688e-05      0.001     -0.132      0.895      -0.001       0.001\n",
       "cholesterol      0.0106      0.001     17.359      0.000       0.009       0.012\n",
       "==============================================================================\n",
       "Omnibus:                     1411.062   Durbin-Watson:                   1.997\n",
       "Prob(Omnibus):                  0.000   Jarque-Bera (JB):              252.227\n",
       "Skew:                          -0.039   Prob(JB):                     1.70e-55\n",
       "Kurtosis:                       1.991   Cond. No.                     2.61e+03\n",
       "==============================================================================\n",
       "\n",
       "Notes:\n",
       "[1] Standard Errors assume that the covariance matrix of the errors is correctly specified.\n",
       "[2] The condition number is large, 2.61e+03. This might indicate that there are\n",
       "strong multicollinearity or other numerical problems.\n",
       "\"\"\""
      ]
     },
     "execution_count": 24,
     "metadata": {},
     "output_type": "execute_result"
    }
   ],
   "source": [
    "model.summary()"
   ]
  },
  {
   "cell_type": "code",
   "execution_count": 25,
   "id": "05443165",
   "metadata": {},
   "outputs": [
    {
     "data": {
      "text/html": [
       "<div>\n",
       "<style scoped>\n",
       "    .dataframe tbody tr th:only-of-type {\n",
       "        vertical-align: middle;\n",
       "    }\n",
       "\n",
       "    .dataframe tbody tr th {\n",
       "        vertical-align: top;\n",
       "    }\n",
       "\n",
       "    .dataframe thead th {\n",
       "        text-align: right;\n",
       "    }\n",
       "</style>\n",
       "<table border=\"1\" class=\"dataframe\">\n",
       "  <thead>\n",
       "    <tr style=\"text-align: right;\">\n",
       "      <th></th>\n",
       "      <th>Features</th>\n",
       "      <th>VIF</th>\n",
       "    </tr>\n",
       "  </thead>\n",
       "  <tbody>\n",
       "    <tr>\n",
       "      <th>0</th>\n",
       "      <td>Age</td>\n",
       "      <td>1.000348</td>\n",
       "    </tr>\n",
       "    <tr>\n",
       "      <th>1</th>\n",
       "      <td>Systolic_BP</td>\n",
       "      <td>1.294727</td>\n",
       "    </tr>\n",
       "    <tr>\n",
       "      <th>2</th>\n",
       "      <td>Diastolic_BP</td>\n",
       "      <td>1.283326</td>\n",
       "    </tr>\n",
       "    <tr>\n",
       "      <th>3</th>\n",
       "      <td>Cholesterol</td>\n",
       "      <td>1.282291</td>\n",
       "    </tr>\n",
       "  </tbody>\n",
       "</table>\n",
       "</div>"
      ],
      "text/plain": [
       "       Features       VIF\n",
       "0           Age  1.000348\n",
       "1   Systolic_BP  1.294727\n",
       "2  Diastolic_BP  1.283326\n",
       "3   Cholesterol  1.282291"
      ]
     },
     "execution_count": 25,
     "metadata": {},
     "output_type": "execute_result"
    }
   ],
   "source": [
    "# Calculate VIF = 1/(1-Rsquare) for all independent variables\n",
    "\n",
    "rsq_age = smf.ols('age~systolic_bp+diastolic_bp+cholesterol',data=data_new).fit().rsquared\n",
    "vif_age = 1/(1-rsq_age)\n",
    "rsq_sys = smf.ols('systolic_bp~age+diastolic_bp+cholesterol',data=data_new).fit().rsquared\n",
    "vif_sys = 1/(1-rsq_sys)\n",
    "rsq_dias = smf.ols('diastolic_bp~age+systolic_bp+cholesterol',data=data_new).fit().rsquared\n",
    "vif_dias = 1/(1-rsq_dias)\n",
    "rsq_choles = smf.ols('cholesterol~age+systolic_bp+diastolic_bp',data=data_new).fit().rsquared\n",
    "vif_choles = 1/(1-rsq_choles)\n",
    "\n",
    "data1={'Features':['Age','Systolic_BP','Diastolic_BP','Cholesterol'],'VIF':[vif_age,vif_sys,vif_dias,vif_choles]}\n",
    "Vif_frame = pd.DataFrame(data1)\n",
    "Vif_frame"
   ]
  },
  {
   "cell_type": "markdown",
   "id": "2897fd55",
   "metadata": {},
   "source": [
    "#### From the table we can see there is no much multicollinearity amongst variable\n",
    "#### Therefore, we can consider all the variables"
   ]
  },
  {
   "cell_type": "markdown",
   "id": "a62ccd38",
   "metadata": {},
   "source": [
    "## 11. Correlation Plot"
   ]
  },
  {
   "cell_type": "code",
   "execution_count": 26,
   "id": "f6b38f88",
   "metadata": {},
   "outputs": [
    {
     "data": {
      "text/html": [
       "<div>\n",
       "<style scoped>\n",
       "    .dataframe tbody tr th:only-of-type {\n",
       "        vertical-align: middle;\n",
       "    }\n",
       "\n",
       "    .dataframe tbody tr th {\n",
       "        vertical-align: top;\n",
       "    }\n",
       "\n",
       "    .dataframe thead th {\n",
       "        text-align: right;\n",
       "    }\n",
       "</style>\n",
       "<table border=\"1\" class=\"dataframe\">\n",
       "  <thead>\n",
       "    <tr style=\"text-align: right;\">\n",
       "      <th></th>\n",
       "      <th>age</th>\n",
       "      <th>systolic_bp</th>\n",
       "      <th>diastolic_bp</th>\n",
       "      <th>cholesterol</th>\n",
       "      <th>prognosis</th>\n",
       "    </tr>\n",
       "  </thead>\n",
       "  <tbody>\n",
       "    <tr>\n",
       "      <th>age</th>\n",
       "      <td>1.000000</td>\n",
       "      <td>0.012472</td>\n",
       "      <td>-0.006247</td>\n",
       "      <td>-0.003919</td>\n",
       "      <td>0.378367</td>\n",
       "    </tr>\n",
       "    <tr>\n",
       "      <th>systolic_bp</th>\n",
       "      <td>0.012472</td>\n",
       "      <td>1.000000</td>\n",
       "      <td>0.397581</td>\n",
       "      <td>0.396785</td>\n",
       "      <td>0.336547</td>\n",
       "    </tr>\n",
       "    <tr>\n",
       "      <th>diastolic_bp</th>\n",
       "      <td>-0.006247</td>\n",
       "      <td>0.397581</td>\n",
       "      <td>1.000000</td>\n",
       "      <td>0.387465</td>\n",
       "      <td>0.177665</td>\n",
       "    </tr>\n",
       "    <tr>\n",
       "      <th>cholesterol</th>\n",
       "      <td>-0.003919</td>\n",
       "      <td>0.396785</td>\n",
       "      <td>0.387465</td>\n",
       "      <td>1.000000</td>\n",
       "      <td>0.311206</td>\n",
       "    </tr>\n",
       "    <tr>\n",
       "      <th>prognosis</th>\n",
       "      <td>0.378367</td>\n",
       "      <td>0.336547</td>\n",
       "      <td>0.177665</td>\n",
       "      <td>0.311206</td>\n",
       "      <td>1.000000</td>\n",
       "    </tr>\n",
       "  </tbody>\n",
       "</table>\n",
       "</div>"
      ],
      "text/plain": [
       "                   age  systolic_bp  diastolic_bp  cholesterol  prognosis\n",
       "age           1.000000     0.012472     -0.006247    -0.003919   0.378367\n",
       "systolic_bp   0.012472     1.000000      0.397581     0.396785   0.336547\n",
       "diastolic_bp -0.006247     0.397581      1.000000     0.387465   0.177665\n",
       "cholesterol  -0.003919     0.396785      0.387465     1.000000   0.311206\n",
       "prognosis     0.378367     0.336547      0.177665     0.311206   1.000000"
      ]
     },
     "execution_count": 26,
     "metadata": {},
     "output_type": "execute_result"
    }
   ],
   "source": [
    "data_new.corr()"
   ]
  },
  {
   "cell_type": "code",
   "execution_count": 27,
   "id": "9712b93a",
   "metadata": {},
   "outputs": [
    {
     "data": {
      "text/plain": [
       "<AxesSubplot:>"
      ]
     },
     "execution_count": 27,
     "metadata": {},
     "output_type": "execute_result"
    },
    {
     "data": {
      "image/png": "[encoded data removed]",
      "text/plain": [
       "<Figure size 432x288 with 2 Axes>"
      ]
     },
     "metadata": {
      "needs_background": "light"
     },
     "output_type": "display_data"
    }
   ],
   "source": [
    "sns.heatmap(data_new.corr(),annot=True)"
   ]
  },
  {
   "cell_type": "markdown",
   "id": "e3393457",
   "metadata": {},
   "source": [
    "##### Analysis :- Near to 1 = More Correlated, Near to 0 = No Correlated\n",
    "###### 1. Age is not depending on any other feature and is correlated to target variable with .38(highest)\n",
    "###### 2. Systolic_bp correlated with every other feature except age and is correlated to target variable with .34\n",
    "###### 3. Diastolic_bp correlated with every other feature except age and is correlated to target variable with .18 (lowest)\n",
    "###### 4. Cholesterol correlated with every other feature except age and is correlated to target variable with .31"
   ]
  },
  {
   "cell_type": "markdown",
   "id": "28dc98b5",
   "metadata": {},
   "source": [
    "## 12. Checking Distribution of data in each feature"
   ]
  },
  {
   "cell_type": "code",
   "execution_count": 28,
   "id": "946d7c25",
   "metadata": {},
   "outputs": [
    {
     "data": {
      "text/plain": [
       "<AxesSubplot:xlabel='age', ylabel='Density'>"
      ]
     },
     "execution_count": 28,
     "metadata": {},
     "output_type": "execute_result"
    },
    {
     "data": {
      "image/png": "[encoded data removed]",
      "text/plain": [
       "<Figure size 432x288 with 1 Axes>"
      ]
     },
     "metadata": {
      "needs_background": "light"
     },
     "output_type": "display_data"
    }
   ],
   "source": [
    "sns.distplot(data_new['age'])"
   ]
  },
  {
   "cell_type": "code",
   "execution_count": 29,
   "id": "8a4fc333",
   "metadata": {},
   "outputs": [
    {
     "data": {
      "text/plain": [
       "<AxesSubplot:xlabel='systolic_bp', ylabel='Density'>"
      ]
     },
     "execution_count": 29,
     "metadata": {},
     "output_type": "execute_result"
    },
    {
     "data": {
      "image/png": "[encoded data removed]",
      "text/plain": [
       "<Figure size 432x288 with 1 Axes>"
      ]
     },
     "metadata": {
      "needs_background": "light"
     },
     "output_type": "display_data"
    }
   ],
   "source": [
    "sns.distplot(data_new['systolic_bp'])"
   ]
  },
  {
   "cell_type": "code",
   "execution_count": 30,
   "id": "c1a8107d",
   "metadata": {},
   "outputs": [
    {
     "data": {
      "text/plain": [
       "<AxesSubplot:xlabel='diastolic_bp', ylabel='Density'>"
      ]
     },
     "execution_count": 30,
     "metadata": {},
     "output_type": "execute_result"
    },
    {
     "data": {
      "image/png": "[encoded data removed]",
      "text/plain": [
       "<Figure size 432x288 with 1 Axes>"
      ]
     },
     "metadata": {
      "needs_background": "light"
     },
     "output_type": "display_data"
    }
   ],
   "source": [
    "sns.distplot(data_new['diastolic_bp'])"
   ]
  },
  {
   "cell_type": "code",
   "execution_count": 31,
   "id": "641cb27b",
   "metadata": {},
   "outputs": [
    {
     "data": {
      "text/plain": [
       "<AxesSubplot:xlabel='cholesterol', ylabel='Density'>"
      ]
     },
     "execution_count": 31,
     "metadata": {},
     "output_type": "execute_result"
    },
    {
     "data": {
      "image/png": "[encoded data removed]",
      "text/plain": [
       "<Figure size 432x288 with 1 Axes>"
      ]
     },
     "metadata": {
      "needs_background": "light"
     },
     "output_type": "display_data"
    }
   ],
   "source": [
    "sns.distplot(data_new['cholesterol'])"
   ]
  },
  {
   "cell_type": "markdown",
   "id": "457dc492",
   "metadata": {},
   "source": [
    "## 13. Splitting data into features and target"
   ]
  },
  {
   "cell_type": "code",
   "execution_count": 32,
   "id": "439d525d",
   "metadata": {},
   "outputs": [],
   "source": [
    "X = data_new.drop(columns='prognosis',axis=1)\n",
    "Y = data_new['prognosis']"
   ]
  },
  {
   "cell_type": "code",
   "execution_count": 33,
   "id": "b44f3a4d",
   "metadata": {},
   "outputs": [
    {
     "data": {
      "text/html": [
       "<div>\n",
       "<style scoped>\n",
       "    .dataframe tbody tr th:only-of-type {\n",
       "        vertical-align: middle;\n",
       "    }\n",
       "\n",
       "    .dataframe tbody tr th {\n",
       "        vertical-align: top;\n",
       "    }\n",
       "\n",
       "    .dataframe thead th {\n",
       "        text-align: right;\n",
       "    }\n",
       "</style>\n",
       "<table border=\"1\" class=\"dataframe\">\n",
       "  <thead>\n",
       "    <tr style=\"text-align: right;\">\n",
       "      <th></th>\n",
       "      <th>age</th>\n",
       "      <th>systolic_bp</th>\n",
       "      <th>diastolic_bp</th>\n",
       "      <th>cholesterol</th>\n",
       "    </tr>\n",
       "  </thead>\n",
       "  <tbody>\n",
       "    <tr>\n",
       "      <th>0</th>\n",
       "      <td>77.196340</td>\n",
       "      <td>85.288742</td>\n",
       "      <td>80.021878</td>\n",
       "      <td>79.957109</td>\n",
       "    </tr>\n",
       "    <tr>\n",
       "      <th>1</th>\n",
       "      <td>63.529850</td>\n",
       "      <td>99.379736</td>\n",
       "      <td>84.852361</td>\n",
       "      <td>110.382411</td>\n",
       "    </tr>\n",
       "    <tr>\n",
       "      <th>2</th>\n",
       "      <td>69.003986</td>\n",
       "      <td>111.349455</td>\n",
       "      <td>109.850616</td>\n",
       "      <td>100.828246</td>\n",
       "    </tr>\n",
       "    <tr>\n",
       "      <th>3</th>\n",
       "      <td>82.638210</td>\n",
       "      <td>95.056128</td>\n",
       "      <td>79.666851</td>\n",
       "      <td>87.066303</td>\n",
       "    </tr>\n",
       "    <tr>\n",
       "      <th>4</th>\n",
       "      <td>78.346286</td>\n",
       "      <td>109.154591</td>\n",
       "      <td>90.713220</td>\n",
       "      <td>92.511770</td>\n",
       "    </tr>\n",
       "    <tr>\n",
       "      <th>...</th>\n",
       "      <td>...</td>\n",
       "      <td>...</td>\n",
       "      <td>...</td>\n",
       "      <td>...</td>\n",
       "    </tr>\n",
       "    <tr>\n",
       "      <th>5995</th>\n",
       "      <td>49.611850</td>\n",
       "      <td>94.857639</td>\n",
       "      <td>86.615671</td>\n",
       "      <td>107.643986</td>\n",
       "    </tr>\n",
       "    <tr>\n",
       "      <th>5996</th>\n",
       "      <td>63.099686</td>\n",
       "      <td>100.039527</td>\n",
       "      <td>93.515186</td>\n",
       "      <td>104.971404</td>\n",
       "    </tr>\n",
       "    <tr>\n",
       "      <th>5997</th>\n",
       "      <td>55.562243</td>\n",
       "      <td>98.421446</td>\n",
       "      <td>102.697875</td>\n",
       "      <td>120.875951</td>\n",
       "    </tr>\n",
       "    <tr>\n",
       "      <th>5998</th>\n",
       "      <td>63.468956</td>\n",
       "      <td>106.809289</td>\n",
       "      <td>88.060631</td>\n",
       "      <td>106.052213</td>\n",
       "    </tr>\n",
       "    <tr>\n",
       "      <th>5999</th>\n",
       "      <td>62.506825</td>\n",
       "      <td>96.900784</td>\n",
       "      <td>86.878033</td>\n",
       "      <td>108.625436</td>\n",
       "    </tr>\n",
       "  </tbody>\n",
       "</table>\n",
       "<p>5907 rows × 4 columns</p>\n",
       "</div>"
      ],
      "text/plain": [
       "            age  systolic_bp  diastolic_bp  cholesterol\n",
       "0     77.196340    85.288742     80.021878    79.957109\n",
       "1     63.529850    99.379736     84.852361   110.382411\n",
       "2     69.003986   111.349455    109.850616   100.828246\n",
       "3     82.638210    95.056128     79.666851    87.066303\n",
       "4     78.346286   109.154591     90.713220    92.511770\n",
       "...         ...          ...           ...          ...\n",
       "5995  49.611850    94.857639     86.615671   107.643986\n",
       "5996  63.099686   100.039527     93.515186   104.971404\n",
       "5997  55.562243    98.421446    102.697875   120.875951\n",
       "5998  63.468956   106.809289     88.060631   106.052213\n",
       "5999  62.506825    96.900784     86.878033   108.625436\n",
       "\n",
       "[5907 rows x 4 columns]"
      ]
     },
     "execution_count": 33,
     "metadata": {},
     "output_type": "execute_result"
    }
   ],
   "source": [
    "X"
   ]
  },
  {
   "cell_type": "code",
   "execution_count": 34,
   "id": "163910c5",
   "metadata": {},
   "outputs": [
    {
     "data": {
      "text/plain": [
       "0       1\n",
       "1       1\n",
       "2       1\n",
       "3       1\n",
       "4       1\n",
       "       ..\n",
       "5995    0\n",
       "5996    1\n",
       "5997    1\n",
       "5998    1\n",
       "5999    0\n",
       "Name: prognosis, Length: 5907, dtype: int64"
      ]
     },
     "execution_count": 34,
     "metadata": {},
     "output_type": "execute_result"
    }
   ],
   "source": [
    "Y"
   ]
  },
  {
   "cell_type": "markdown",
   "id": "3e16e27e",
   "metadata": {},
   "source": [
    "#### Data in all the features are normally distributed."
   ]
  },
  {
   "cell_type": "markdown",
   "id": "668f693b",
   "metadata": {},
   "source": [
    "# Model Building"
   ]
  },
  {
   "cell_type": "markdown",
   "id": "c57002fb",
   "metadata": {},
   "source": [
    "## 1. Logistic Regression"
   ]
  },
  {
   "cell_type": "code",
   "execution_count": 35,
   "id": "59a59cbc",
   "metadata": {},
   "outputs": [],
   "source": [
    "from sklearn.linear_model import LogisticRegression\n",
    "from sklearn.model_selection import train_test_split\n",
    "from sklearn.metrics import accuracy_score as ac\n",
    "from sklearn.metrics import classification_report\n",
    "from sklearn.metrics import roc_curve\n",
    "from sklearn.metrics import roc_auc_score\n",
    "from sklearn.metrics import confusion_matrix\n",
    "from sklearn.metrics import recall_score\n",
    "from sklearn.metrics import f1_score\n",
    "from sklearn.metrics import precision_score\n",
    "from sklearn.metrics import plot_roc_curve"
   ]
  },
  {
   "cell_type": "code",
   "execution_count": 36,
   "id": "77234c9b",
   "metadata": {},
   "outputs": [],
   "source": [
    "x_train,x_test,y_train,y_test=train_test_split(X,Y,test_size=0.3,shuffle=True)"
   ]
  },
  {
   "cell_type": "code",
   "execution_count": 37,
   "id": "59f9cc88",
   "metadata": {},
   "outputs": [
    {
     "data": {
      "text/plain": [
       "LogisticRegression(random_state=0)"
      ]
     },
     "execution_count": 37,
     "metadata": {},
     "output_type": "execute_result"
    }
   ],
   "source": [
    "classifier_LR = LogisticRegression(random_state=0)\n",
    "classifier_LR.fit(x_train,y_train)"
   ]
  },
  {
   "cell_type": "code",
   "execution_count": 38,
   "id": "9b3b5985",
   "metadata": {},
   "outputs": [
    {
     "name": "stdout",
     "output_type": "stream",
     "text": [
      "[[671 184]\n",
      " [257 661]]\n"
     ]
    }
   ],
   "source": [
    "y_pred = classifier_LR.predict(x_test)\n",
    "cm_LR = confusion_matrix(y_test,y_pred)\n",
    "print(cm_LR)"
   ]
  },
  {
   "cell_type": "code",
   "execution_count": 39,
   "id": "8a77fcc7",
   "metadata": {},
   "outputs": [
    {
     "name": "stdout",
     "output_type": "stream",
     "text": [
      "0.751269035532995\n"
     ]
    }
   ],
   "source": [
    "acc_LR = ac(y_test,y_pred)\n",
    "print(acc_LR)"
   ]
  },
  {
   "cell_type": "code",
   "execution_count": 40,
   "id": "51980c87",
   "metadata": {},
   "outputs": [
    {
     "name": "stdout",
     "output_type": "stream",
     "text": [
      "              precision    recall  f1-score   support\n",
      "\n",
      "           0       0.72      0.78      0.75       855\n",
      "           1       0.78      0.72      0.75       918\n",
      "\n",
      "    accuracy                           0.75      1773\n",
      "   macro avg       0.75      0.75      0.75      1773\n",
      "weighted avg       0.75      0.75      0.75      1773\n",
      "\n"
     ]
    }
   ],
   "source": [
    "print(classification_report(y_test,y_pred))"
   ]
  },
  {
   "cell_type": "code",
   "execution_count": 41,
   "id": "38ba81a6",
   "metadata": {},
   "outputs": [],
   "source": [
    "fpr, tpr, thresholds = roc_curve(y_test, classifier_LR.predict_proba(x_test)[:,1])\n",
    "auc = roc_auc_score(y_test,y_pred)"
   ]
  },
  {
   "cell_type": "code",
   "execution_count": 42,
   "id": "300c2b5c",
   "metadata": {},
   "outputs": [
    {
     "data": {
      "text/plain": [
       "<sklearn.metrics._plot.roc_curve.RocCurveDisplay at 0x7f933cd88f10>"
      ]
     },
     "execution_count": 42,
     "metadata": {},
     "output_type": "execute_result"
    },
    {
     "data": {
      "image/png": "[encoded data removed]",
      "text/plain": [
       "<Figure size 432x288 with 1 Axes>"
      ]
     },
     "metadata": {
      "needs_background": "light"
     },
     "output_type": "display_data"
    }
   ],
   "source": [
    "plot_roc_curve(classifier_LR,X=x_test,y=y_test)"
   ]
  },
  {
   "cell_type": "code",
   "execution_count": 43,
   "id": "451b1139",
   "metadata": {},
   "outputs": [
    {
     "data": {
      "text/plain": [
       "0.7524194473110881"
      ]
     },
     "execution_count": 43,
     "metadata": {},
     "output_type": "execute_result"
    }
   ],
   "source": [
    "auc_LR = roc_auc_score(y_test,y_pred)\n",
    "auc_LR"
   ]
  },
  {
   "cell_type": "code",
   "execution_count": 44,
   "id": "0c201dba",
   "metadata": {},
   "outputs": [
    {
     "data": {
      "text/plain": [
       "0.7498581962563811"
      ]
     },
     "execution_count": 44,
     "metadata": {},
     "output_type": "execute_result"
    }
   ],
   "source": [
    "f1_score_LR = f1_score(y_test,y_pred)\n",
    "f1_score_LR"
   ]
  },
  {
   "cell_type": "code",
   "execution_count": 45,
   "id": "d30c36e8",
   "metadata": {},
   "outputs": [
    {
     "name": "stdout",
     "output_type": "stream",
     "text": [
      "Recall score using Logistic Regression is 0.7200435729847494\n"
     ]
    }
   ],
   "source": [
    "recall_LR = recall_score(y_test,y_pred)\n",
    "print(f\"Recall score using Logistic Regression is {recall_LR}\")"
   ]
  },
  {
   "cell_type": "code",
   "execution_count": 46,
   "id": "468f8ba9",
   "metadata": {},
   "outputs": [
    {
     "name": "stdout",
     "output_type": "stream",
     "text": [
      "Precision score using Logistic Regression is 0.7822485207100591\n"
     ]
    }
   ],
   "source": [
    "precision_LR = precision_score(y_test,y_pred)\n",
    "print(f\"Precision score using Logistic Regression is {precision_LR}\")"
   ]
  },
  {
   "cell_type": "markdown",
   "id": "a828472b",
   "metadata": {},
   "source": [
    "## 2. K-Nearest Neighbors (KNN)"
   ]
  },
  {
   "cell_type": "code",
   "execution_count": 47,
   "id": "f23dfafe",
   "metadata": {},
   "outputs": [],
   "source": [
    "from sklearn.neighbors import KNeighborsClassifier"
   ]
  },
  {
   "cell_type": "code",
   "execution_count": 48,
   "id": "d8017d30",
   "metadata": {},
   "outputs": [
    {
     "data": {
      "text/plain": [
       "KNeighborsClassifier()"
      ]
     },
     "execution_count": 48,
     "metadata": {},
     "output_type": "execute_result"
    }
   ],
   "source": [
    "classifier_KNN= KNeighborsClassifier(n_neighbors = 5, metric='minkowski', p=2)\n",
    "classifier_KNN.fit(x_train,y_train)"
   ]
  },
  {
   "cell_type": "code",
   "execution_count": 49,
   "id": "726ec98e",
   "metadata": {},
   "outputs": [],
   "source": [
    "y_pred = classifier_KNN.predict(x_test)"
   ]
  },
  {
   "cell_type": "code",
   "execution_count": 50,
   "id": "aa4171f7",
   "metadata": {},
   "outputs": [
    {
     "name": "stdout",
     "output_type": "stream",
     "text": [
      "[[608 247]\n",
      " [264 654]]\n"
     ]
    }
   ],
   "source": [
    "cm_KNN = confusion_matrix(y_test,y_pred)\n",
    "print(cm_KNN)"
   ]
  },
  {
   "cell_type": "code",
   "execution_count": 51,
   "id": "74f0c3e0",
   "metadata": {},
   "outputs": [
    {
     "name": "stdout",
     "output_type": "stream",
     "text": [
      "0.7117879300620418\n"
     ]
    }
   ],
   "source": [
    "acc_KNN = ac(y_test,y_pred)\n",
    "print(acc_KNN)"
   ]
  },
  {
   "cell_type": "code",
   "execution_count": 52,
   "id": "deaafa7a",
   "metadata": {},
   "outputs": [
    {
     "name": "stdout",
     "output_type": "stream",
     "text": [
      "              precision    recall  f1-score   support\n",
      "\n",
      "           0       0.70      0.71      0.70       855\n",
      "           1       0.73      0.71      0.72       918\n",
      "\n",
      "    accuracy                           0.71      1773\n",
      "   macro avg       0.71      0.71      0.71      1773\n",
      "weighted avg       0.71      0.71      0.71      1773\n",
      "\n"
     ]
    }
   ],
   "source": [
    "print(classification_report(y_test,y_pred))"
   ]
  },
  {
   "cell_type": "code",
   "execution_count": 53,
   "id": "68ec6047",
   "metadata": {},
   "outputs": [
    {
     "data": {
      "text/plain": [
       "<sklearn.metrics._plot.roc_curve.RocCurveDisplay at 0x7f93082b55b0>"
      ]
     },
     "execution_count": 53,
     "metadata": {},
     "output_type": "execute_result"
    },
    {
     "data": {
      "image/png": "[encoded data removed]",
      "text/plain": [
       "<Figure size 432x288 with 1 Axes>"
      ]
     },
     "metadata": {
      "needs_background": "light"
     },
     "output_type": "display_data"
    }
   ],
   "source": [
    "plot_roc_curve(classifier_KNN,X=x_test,y=y_test)"
   ]
  },
  {
   "cell_type": "code",
   "execution_count": 54,
   "id": "fe414eb8",
   "metadata": {},
   "outputs": [
    {
     "data": {
      "text/plain": [
       "0.7117647058823531"
      ]
     },
     "execution_count": 54,
     "metadata": {},
     "output_type": "execute_result"
    }
   ],
   "source": [
    "auc_KNN = roc_auc_score(y_test,y_pred)\n",
    "auc_KNN"
   ]
  },
  {
   "cell_type": "code",
   "execution_count": 55,
   "id": "e0bfe9f0",
   "metadata": {},
   "outputs": [
    {
     "data": {
      "text/plain": [
       "0.7190764156129741"
      ]
     },
     "execution_count": 55,
     "metadata": {},
     "output_type": "execute_result"
    }
   ],
   "source": [
    "f1_score_KNN = f1_score(y_test,y_pred)\n",
    "f1_score_KNN"
   ]
  },
  {
   "cell_type": "code",
   "execution_count": 56,
   "id": "9ae4d108",
   "metadata": {},
   "outputs": [
    {
     "name": "stdout",
     "output_type": "stream",
     "text": [
      "Recall score using KNN is 0.7124183006535948\n"
     ]
    }
   ],
   "source": [
    "recall_KNN = recall_score(y_test,y_pred)\n",
    "print(f\"Recall score using KNN is {recall_KNN}\")"
   ]
  },
  {
   "cell_type": "code",
   "execution_count": 57,
   "id": "91224cf7",
   "metadata": {},
   "outputs": [
    {
     "name": "stdout",
     "output_type": "stream",
     "text": [
      "Precision score using KNN is 0.7258601553829079\n"
     ]
    }
   ],
   "source": [
    "precision_KNN = precision_score(y_test,y_pred)\n",
    "print(f\"Precision score using KNN is {precision_KNN}\")"
   ]
  },
  {
   "cell_type": "markdown",
   "id": "5b36f548",
   "metadata": {},
   "source": [
    "## 3. Support Vector Machine"
   ]
  },
  {
   "cell_type": "code",
   "execution_count": 58,
   "id": "4b56fee0",
   "metadata": {},
   "outputs": [],
   "source": [
    "from sklearn.svm import SVC"
   ]
  },
  {
   "cell_type": "code",
   "execution_count": 59,
   "id": "06ed5a39",
   "metadata": {},
   "outputs": [
    {
     "data": {
      "text/plain": [
       "SVC(C=0.1, gamma=0.001)"
      ]
     },
     "execution_count": 59,
     "metadata": {},
     "output_type": "execute_result"
    }
   ],
   "source": [
    "classifier_SVC = SVC(kernel = 'rbf', gamma=0.001,C=0.1)\n",
    "classifier_SVC.fit(x_train, y_train)"
   ]
  },
  {
   "cell_type": "code",
   "execution_count": 60,
   "id": "12e1b87b",
   "metadata": {},
   "outputs": [],
   "source": [
    "y_pred = classifier_SVC.predict(x_test)"
   ]
  },
  {
   "cell_type": "code",
   "execution_count": 61,
   "id": "ec1739dd",
   "metadata": {},
   "outputs": [
    {
     "data": {
      "text/plain": [
       "array([[637, 218],\n",
       "       [223, 695]])"
      ]
     },
     "execution_count": 61,
     "metadata": {},
     "output_type": "execute_result"
    }
   ],
   "source": [
    "cm_SVC = confusion_matrix(y_test, y_pred)\n",
    "cm_SVC"
   ]
  },
  {
   "cell_type": "code",
   "execution_count": 62,
   "id": "9758bb2f",
   "metadata": {},
   "outputs": [
    {
     "data": {
      "text/plain": [
       "0.751269035532995"
      ]
     },
     "execution_count": 62,
     "metadata": {},
     "output_type": "execute_result"
    }
   ],
   "source": [
    "acc_SVC = ac(y_test, y_pred)\n",
    "acc_SVC"
   ]
  },
  {
   "cell_type": "code",
   "execution_count": 63,
   "id": "ec6e533d",
   "metadata": {},
   "outputs": [
    {
     "name": "stdout",
     "output_type": "stream",
     "text": [
      "              precision    recall  f1-score   support\n",
      "\n",
      "           0       0.74      0.75      0.74       855\n",
      "           1       0.76      0.76      0.76       918\n",
      "\n",
      "    accuracy                           0.75      1773\n",
      "   macro avg       0.75      0.75      0.75      1773\n",
      "weighted avg       0.75      0.75      0.75      1773\n",
      "\n"
     ]
    }
   ],
   "source": [
    "print(classification_report(y_test,y_pred))"
   ]
  },
  {
   "cell_type": "code",
   "execution_count": 64,
   "id": "cca48971",
   "metadata": {},
   "outputs": [
    {
     "data": {
      "text/plain": [
       "0.7510549248939342"
      ]
     },
     "execution_count": 64,
     "metadata": {},
     "output_type": "execute_result"
    }
   ],
   "source": [
    "auc_SVC = roc_auc_score(y_test,y_pred)\n",
    "auc_SVC"
   ]
  },
  {
   "cell_type": "code",
   "execution_count": 65,
   "id": "de633a97",
   "metadata": {},
   "outputs": [
    {
     "data": {
      "text/plain": [
       "0.7591480065537958"
      ]
     },
     "execution_count": 65,
     "metadata": {},
     "output_type": "execute_result"
    }
   ],
   "source": [
    "f1_score_SVC = f1_score(y_test,y_pred)\n",
    "f1_score_SVC"
   ]
  },
  {
   "cell_type": "code",
   "execution_count": 66,
   "id": "0c65384a",
   "metadata": {},
   "outputs": [
    {
     "name": "stdout",
     "output_type": "stream",
     "text": [
      "Recall score using Support Vector Machine is 0.7570806100217865\n"
     ]
    }
   ],
   "source": [
    "recall_SVC = recall_score(y_test,y_pred)\n",
    "print(f\"Recall score using Support Vector Machine is {recall_SVC}\")"
   ]
  },
  {
   "cell_type": "code",
   "execution_count": 67,
   "id": "110d858a",
   "metadata": {},
   "outputs": [
    {
     "name": "stdout",
     "output_type": "stream",
     "text": [
      "Precision score using Support Vector Machine is 0.7612267250821467\n"
     ]
    }
   ],
   "source": [
    "precision_SVC = precision_score(y_test,y_pred)\n",
    "print(f\"Precision score using Support Vector Machine is {precision_SVC}\")"
   ]
  },
  {
   "cell_type": "code",
   "execution_count": 68,
   "id": "67e0bf72",
   "metadata": {},
   "outputs": [
    {
     "data": {
      "text/plain": [
       "<sklearn.metrics._plot.roc_curve.RocCurveDisplay at 0x7f930807b640>"
      ]
     },
     "execution_count": 68,
     "metadata": {},
     "output_type": "execute_result"
    },
    {
     "data": {
      "image/png": "[encoded data removed]",
      "text/plain": [
       "<Figure size 432x288 with 1 Axes>"
      ]
     },
     "metadata": {
      "needs_background": "light"
     },
     "output_type": "display_data"
    }
   ],
   "source": [
    "plot_roc_curve(classifier_SVC,X=x_test,y=y_test)"
   ]
  },
  {
   "cell_type": "markdown",
   "id": "4936ac2e",
   "metadata": {},
   "source": [
    "## 4. Naive Bayes"
   ]
  },
  {
   "cell_type": "code",
   "execution_count": 69,
   "id": "3c4c061e",
   "metadata": {},
   "outputs": [],
   "source": [
    "from sklearn.naive_bayes import GaussianNB"
   ]
  },
  {
   "cell_type": "code",
   "execution_count": 70,
   "id": "8087cfcf",
   "metadata": {},
   "outputs": [
    {
     "data": {
      "text/plain": [
       "GaussianNB()"
      ]
     },
     "execution_count": 70,
     "metadata": {},
     "output_type": "execute_result"
    }
   ],
   "source": [
    "classifier_NB = GaussianNB()\n",
    "classifier_NB.fit(x_train, y_train)"
   ]
  },
  {
   "cell_type": "code",
   "execution_count": 71,
   "id": "337f93b4",
   "metadata": {},
   "outputs": [],
   "source": [
    "y_pred = classifier_NB.predict(x_test)"
   ]
  },
  {
   "cell_type": "code",
   "execution_count": 72,
   "id": "d87b1d6d",
   "metadata": {},
   "outputs": [
    {
     "name": "stdout",
     "output_type": "stream",
     "text": [
      "[[664 191]\n",
      " [269 649]]\n"
     ]
    }
   ],
   "source": [
    "cm_NB = confusion_matrix(y_test, y_pred)\n",
    "print(cm_NB)"
   ]
  },
  {
   "cell_type": "code",
   "execution_count": 73,
   "id": "d50c693e",
   "metadata": {},
   "outputs": [
    {
     "name": "stdout",
     "output_type": "stream",
     "text": [
      "0.7405527354765934\n"
     ]
    }
   ],
   "source": [
    "acc_NB = ac(y_test, y_pred)\n",
    "print(acc_NB)"
   ]
  },
  {
   "cell_type": "code",
   "execution_count": 74,
   "id": "592d2a06",
   "metadata": {},
   "outputs": [
    {
     "name": "stdout",
     "output_type": "stream",
     "text": [
      "              precision    recall  f1-score   support\n",
      "\n",
      "           0       0.71      0.78      0.74       855\n",
      "           1       0.77      0.71      0.74       918\n",
      "\n",
      "    accuracy                           0.74      1773\n",
      "   macro avg       0.74      0.74      0.74      1773\n",
      "weighted avg       0.74      0.74      0.74      1773\n",
      "\n"
     ]
    }
   ],
   "source": [
    "print(classification_report(y_test,y_pred))"
   ]
  },
  {
   "cell_type": "code",
   "execution_count": 75,
   "id": "d85c1ee3",
   "metadata": {},
   "outputs": [
    {
     "data": {
      "text/plain": [
       "0.7417899323472079"
      ]
     },
     "execution_count": 75,
     "metadata": {},
     "output_type": "execute_result"
    }
   ],
   "source": [
    "auc_NB = roc_auc_score(y_test,y_pred)\n",
    "auc_NB"
   ]
  },
  {
   "cell_type": "code",
   "execution_count": 76,
   "id": "92737363",
   "metadata": {},
   "outputs": [
    {
     "data": {
      "text/plain": [
       "0.7383390216154722"
      ]
     },
     "execution_count": 76,
     "metadata": {},
     "output_type": "execute_result"
    }
   ],
   "source": [
    "f1_score_NB = f1_score(y_test,y_pred)\n",
    "f1_score_NB"
   ]
  },
  {
   "cell_type": "code",
   "execution_count": 77,
   "id": "824421e2",
   "metadata": {},
   "outputs": [
    {
     "data": {
      "text/plain": [
       "<sklearn.metrics._plot.roc_curve.RocCurveDisplay at 0x7f931849cd60>"
      ]
     },
     "execution_count": 77,
     "metadata": {},
     "output_type": "execute_result"
    },
    {
     "data": {
      "image/png": "[encoded data removed]",
      "text/plain": [
       "<Figure size 432x288 with 1 Axes>"
      ]
     },
     "metadata": {
      "needs_background": "light"
     },
     "output_type": "display_data"
    }
   ],
   "source": [
    "plot_roc_curve(classifier_NB,X=x_test,y=y_test)"
   ]
  },
  {
   "cell_type": "code",
   "execution_count": 78,
   "id": "8a127ea2",
   "metadata": {},
   "outputs": [
    {
     "name": "stdout",
     "output_type": "stream",
     "text": [
      "Recall score using Naive Bayes is 0.7069716775599129\n"
     ]
    }
   ],
   "source": [
    "recall_NB = recall_score(y_test,y_pred)\n",
    "print(f\"Recall score using Naive Bayes is {recall_NB}\")"
   ]
  },
  {
   "cell_type": "code",
   "execution_count": 79,
   "id": "e5efb7fd",
   "metadata": {},
   "outputs": [
    {
     "name": "stdout",
     "output_type": "stream",
     "text": [
      "Precision score using Naive Bayes is 0.7726190476190476\n"
     ]
    }
   ],
   "source": [
    "precision_NB = precision_score(y_test,y_pred)\n",
    "print(f\"Precision score using Naive Bayes is {precision_NB}\")"
   ]
  },
  {
   "cell_type": "markdown",
   "id": "92a6feb1",
   "metadata": {},
   "source": [
    "## 5. Decision Tree Classification"
   ]
  },
  {
   "cell_type": "code",
   "execution_count": 80,
   "id": "95eb3866",
   "metadata": {},
   "outputs": [],
   "source": [
    "from sklearn.tree import DecisionTreeClassifier"
   ]
  },
  {
   "cell_type": "code",
   "execution_count": 81,
   "id": "1d083a3c",
   "metadata": {},
   "outputs": [
    {
     "data": {
      "text/plain": [
       "DecisionTreeClassifier(max_depth=4, max_features=4, random_state=0)"
      ]
     },
     "execution_count": 81,
     "metadata": {},
     "output_type": "execute_result"
    }
   ],
   "source": [
    "classifier_DT = DecisionTreeClassifier(criterion='gini', random_state=0,max_depth=4,max_features=4)\n",
    "classifier_DT.fit(x_train,y_train)"
   ]
  },
  {
   "cell_type": "code",
   "execution_count": 82,
   "id": "b8ce7fbe",
   "metadata": {},
   "outputs": [],
   "source": [
    "y_pred = classifier_DT.predict(x_test)"
   ]
  },
  {
   "cell_type": "code",
   "execution_count": 83,
   "id": "98165a25",
   "metadata": {},
   "outputs": [
    {
     "name": "stdout",
     "output_type": "stream",
     "text": [
      "[[621 234]\n",
      " [240 678]]\n"
     ]
    }
   ],
   "source": [
    "cm_DT = confusion_matrix(y_test,y_pred)\n",
    "print(cm_DT)"
   ]
  },
  {
   "cell_type": "code",
   "execution_count": 84,
   "id": "8484ad11",
   "metadata": {},
   "outputs": [
    {
     "name": "stdout",
     "output_type": "stream",
     "text": [
      "0.7326565143824028\n"
     ]
    }
   ],
   "source": [
    "acc_DT= ac(y_test, y_pred)\n",
    "print(acc_DT)"
   ]
  },
  {
   "cell_type": "code",
   "execution_count": 85,
   "id": "2922d3d4",
   "metadata": {
    "scrolled": true
   },
   "outputs": [
    {
     "name": "stdout",
     "output_type": "stream",
     "text": [
      "              precision    recall  f1-score   support\n",
      "\n",
      "           0       0.72      0.73      0.72       855\n",
      "           1       0.74      0.74      0.74       918\n",
      "\n",
      "    accuracy                           0.73      1773\n",
      "   macro avg       0.73      0.73      0.73      1773\n",
      "weighted avg       0.73      0.73      0.73      1773\n",
      "\n"
     ]
    }
   ],
   "source": [
    "print(classification_report(y_test,y_pred))"
   ]
  },
  {
   "cell_type": "code",
   "execution_count": 86,
   "id": "df7ff028",
   "metadata": {},
   "outputs": [
    {
     "data": {
      "text/plain": [
       "0.7324389404884761"
      ]
     },
     "execution_count": 86,
     "metadata": {},
     "output_type": "execute_result"
    }
   ],
   "source": [
    "auc_DT = roc_auc_score(y_test,y_pred)\n",
    "auc_DT"
   ]
  },
  {
   "cell_type": "code",
   "execution_count": 87,
   "id": "c352306f",
   "metadata": {},
   "outputs": [
    {
     "data": {
      "text/plain": [
       "0.740983606557377"
      ]
     },
     "execution_count": 87,
     "metadata": {},
     "output_type": "execute_result"
    }
   ],
   "source": [
    "f1_score_DT = f1_score(y_test,y_pred)\n",
    "f1_score_DT"
   ]
  },
  {
   "cell_type": "code",
   "execution_count": 88,
   "id": "0dd3e7bc",
   "metadata": {
    "scrolled": true
   },
   "outputs": [
    {
     "data": {
      "text/plain": [
       "<sklearn.metrics._plot.roc_curve.RocCurveDisplay at 0x7f933cefab80>"
      ]
     },
     "execution_count": 88,
     "metadata": {},
     "output_type": "execute_result"
    },
    {
     "data": {
      "image/png": "[encoded data removed]",
      "text/plain": [
       "<Figure size 432x288 with 1 Axes>"
      ]
     },
     "metadata": {
      "needs_background": "light"
     },
     "output_type": "display_data"
    }
   ],
   "source": [
    "plot_roc_curve(classifier_DT,X=x_test,y=y_test)"
   ]
  },
  {
   "cell_type": "code",
   "execution_count": 89,
   "id": "19b85270",
   "metadata": {},
   "outputs": [
    {
     "name": "stdout",
     "output_type": "stream",
     "text": [
      "Recall score using Decision Tree is 0.738562091503268\n"
     ]
    }
   ],
   "source": [
    "recall_DT = recall_score(y_test,y_pred)\n",
    "print(f\"Recall score using Decision Tree is {recall_DT}\")"
   ]
  },
  {
   "cell_type": "code",
   "execution_count": 90,
   "id": "b34d72f1",
   "metadata": {},
   "outputs": [
    {
     "name": "stdout",
     "output_type": "stream",
     "text": [
      "Precision score using Decision Tree is 0.743421052631579\n"
     ]
    }
   ],
   "source": [
    "precision_DT = precision_score(y_test,y_pred)\n",
    "print(f\"Precision score using Decision Tree is {precision_DT}\")"
   ]
  },
  {
   "cell_type": "markdown",
   "id": "4895f1b3",
   "metadata": {},
   "source": [
    "## 6. Random Forest Classifier"
   ]
  },
  {
   "cell_type": "code",
   "execution_count": 91,
   "id": "64526c4c",
   "metadata": {},
   "outputs": [],
   "source": [
    "from sklearn.ensemble import RandomForestClassifier"
   ]
  },
  {
   "cell_type": "code",
   "execution_count": 92,
   "id": "a5e0e6ec",
   "metadata": {},
   "outputs": [
    {
     "data": {
      "text/plain": [
       "RandomForestClassifier(class_weight='balanced', max_depth=5, max_features=4,\n",
       "                       min_samples_split=11, n_estimators=125)"
      ]
     },
     "execution_count": 92,
     "metadata": {},
     "output_type": "execute_result"
    }
   ],
   "source": [
    "classifier_RF = RandomForestClassifier(n_estimators = 125, criterion = 'gini',class_weight='balanced',max_depth=5,max_features=4,min_samples_split=11)\n",
    "classifier_RF.fit(x_train, y_train)"
   ]
  },
  {
   "cell_type": "code",
   "execution_count": 93,
   "id": "5db8cfd2",
   "metadata": {},
   "outputs": [],
   "source": [
    "y_pred = classifier_RF.predict(x_test)"
   ]
  },
  {
   "cell_type": "code",
   "execution_count": 94,
   "id": "f7c265e9",
   "metadata": {},
   "outputs": [
    {
     "name": "stdout",
     "output_type": "stream",
     "text": [
      "[[631 224]\n",
      " [237 681]]\n"
     ]
    }
   ],
   "source": [
    "cm_RF = confusion_matrix(y_test, y_pred)\n",
    "print(cm_RF)"
   ]
  },
  {
   "cell_type": "code",
   "execution_count": 95,
   "id": "6d179b47",
   "metadata": {},
   "outputs": [
    {
     "data": {
      "text/plain": [
       "0.7399887196841511"
      ]
     },
     "execution_count": 95,
     "metadata": {},
     "output_type": "execute_result"
    }
   ],
   "source": [
    "acc_RF = ac(y_test, y_pred)\n",
    "acc_RF"
   ]
  },
  {
   "cell_type": "code",
   "execution_count": 96,
   "id": "3886aa27",
   "metadata": {
    "scrolled": true
   },
   "outputs": [
    {
     "name": "stdout",
     "output_type": "stream",
     "text": [
      "              precision    recall  f1-score   support\n",
      "\n",
      "           0       0.73      0.74      0.73       855\n",
      "           1       0.75      0.74      0.75       918\n",
      "\n",
      "    accuracy                           0.74      1773\n",
      "   macro avg       0.74      0.74      0.74      1773\n",
      "weighted avg       0.74      0.74      0.74      1773\n",
      "\n"
     ]
    }
   ],
   "source": [
    "print(classification_report(y_test,y_pred))"
   ]
  },
  {
   "cell_type": "code",
   "execution_count": 97,
   "id": "37a04072",
   "metadata": {},
   "outputs": [
    {
     "data": {
      "text/plain": [
       "0.7399208806329549"
      ]
     },
     "execution_count": 97,
     "metadata": {},
     "output_type": "execute_result"
    }
   ],
   "source": [
    "auc_RF = roc_auc_score(y_test,y_pred)\n",
    "auc_RF"
   ]
  },
  {
   "cell_type": "code",
   "execution_count": 98,
   "id": "397dfbee",
   "metadata": {},
   "outputs": [
    {
     "data": {
      "text/plain": [
       "0.7471201316511245"
      ]
     },
     "execution_count": 98,
     "metadata": {},
     "output_type": "execute_result"
    }
   ],
   "source": [
    "f1_score_RF = f1_score(y_test,y_pred)\n",
    "f1_score_RF"
   ]
  },
  {
   "cell_type": "code",
   "execution_count": 99,
   "id": "3efc6a57",
   "metadata": {},
   "outputs": [
    {
     "data": {
      "text/plain": [
       "<sklearn.metrics._plot.roc_curve.RocCurveDisplay at 0x7f93184f6bb0>"
      ]
     },
     "execution_count": 99,
     "metadata": {},
     "output_type": "execute_result"
    },
    {
     "data": {
      "image/png": "[encoded data removed]",
      "text/plain": [
       "<Figure size 432x288 with 1 Axes>"
      ]
     },
     "metadata": {
      "needs_background": "light"
     },
     "output_type": "display_data"
    }
   ],
   "source": [
    "plot_roc_curve(classifier_RF,X=x_test,y=y_test)"
   ]
  },
  {
   "cell_type": "code",
   "execution_count": 100,
   "id": "7ed57ac2",
   "metadata": {},
   "outputs": [
    {
     "name": "stdout",
     "output_type": "stream",
     "text": [
      "Recall score using Random Forest is 0.7418300653594772\n"
     ]
    }
   ],
   "source": [
    "recall_RF = recall_score(y_test,y_pred)\n",
    "print(f\"Recall score using Random Forest is {recall_RF}\")"
   ]
  },
  {
   "cell_type": "code",
   "execution_count": 101,
   "id": "329d3b89",
   "metadata": {},
   "outputs": [
    {
     "name": "stdout",
     "output_type": "stream",
     "text": [
      "Precision score using Random Forest is 0.7524861878453039\n"
     ]
    }
   ],
   "source": [
    "precision_RF = precision_score(y_test,y_pred)\n",
    "print(f\"Precision score using Random Forest is {precision_RF}\")"
   ]
  },
  {
   "cell_type": "markdown",
   "id": "55f0d6ac",
   "metadata": {},
   "source": [
    "## 7. XGBoost Classifier"
   ]
  },
  {
   "cell_type": "code",
   "execution_count": 102,
   "id": "3e54a6d8",
   "metadata": {},
   "outputs": [],
   "source": [
    "from xgboost import XGBClassifier"
   ]
  },
  {
   "cell_type": "code",
   "execution_count": 103,
   "id": "8c19187b",
   "metadata": {},
   "outputs": [
    {
     "data": {
      "text/plain": [
       "XGBClassifier(base_score=0.5, booster='gbtree', callbacks=None,\n",
       "              colsample_bylevel=1, colsample_bynode=1, colsample_bytree=1,\n",
       "              early_stopping_rounds=None, enable_categorical=False,\n",
       "              eval_metric=None, gamma=6, gpu_id=-1, grow_policy='depthwise',\n",
       "              importance_type=None, interaction_constraints='',\n",
       "              learning_rate=0.300000012, max_bin=256, max_cat_to_onehot=4,\n",
       "              max_delta_step=0, max_depth=6, max_leaves=0, min_child_weight=1,\n",
       "              missing=nan, monotone_constraints='()', n_estimators=200,\n",
       "              n_jobs=0, num_parallel_tree=1, predictor='auto', random_state=0,\n",
       "              reg_alpha=0, reg_lambda=1, ...)"
      ]
     },
     "execution_count": 103,
     "metadata": {},
     "output_type": "execute_result"
    }
   ],
   "source": [
    "classifier_XG=XGBClassifier(n_estimators=200,gamma=6)\n",
    "classifier_XG.fit(x_train,y_train)"
   ]
  },
  {
   "cell_type": "code",
   "execution_count": 104,
   "id": "0410681e",
   "metadata": {},
   "outputs": [],
   "source": [
    "y_pred = classifier_XG.predict(x_test)"
   ]
  },
  {
   "cell_type": "code",
   "execution_count": 105,
   "id": "8820116a",
   "metadata": {},
   "outputs": [
    {
     "name": "stdout",
     "output_type": "stream",
     "text": [
      "[[618 237]\n",
      " [229 689]]\n"
     ]
    }
   ],
   "source": [
    "cm_XG = confusion_matrix(y_test, y_pred)\n",
    "print(cm_XG)"
   ]
  },
  {
   "cell_type": "code",
   "execution_count": 106,
   "id": "81d2aec4",
   "metadata": {},
   "outputs": [
    {
     "data": {
      "text/plain": [
       "0.7371686407219402"
      ]
     },
     "execution_count": 106,
     "metadata": {},
     "output_type": "execute_result"
    }
   ],
   "source": [
    "acc_XG = ac(y_test, y_pred)\n",
    "acc_XG"
   ]
  },
  {
   "cell_type": "code",
   "execution_count": 107,
   "id": "29e3c037",
   "metadata": {
    "scrolled": true
   },
   "outputs": [
    {
     "name": "stdout",
     "output_type": "stream",
     "text": [
      "              precision    recall  f1-score   support\n",
      "\n",
      "           0       0.73      0.72      0.73       855\n",
      "           1       0.74      0.75      0.75       918\n",
      "\n",
      "    accuracy                           0.74      1773\n",
      "   macro avg       0.74      0.74      0.74      1773\n",
      "weighted avg       0.74      0.74      0.74      1773\n",
      "\n"
     ]
    }
   ],
   "source": [
    "print(classification_report(y_test,y_pred))"
   ]
  },
  {
   "cell_type": "code",
   "execution_count": 108,
   "id": "c5ca5cb2",
   "metadata": {},
   "outputs": [
    {
     "data": {
      "text/plain": [
       "0.736675839926614"
      ]
     },
     "execution_count": 108,
     "metadata": {},
     "output_type": "execute_result"
    }
   ],
   "source": [
    "auc_XG = roc_auc_score(y_test,y_pred)\n",
    "auc_XG"
   ]
  },
  {
   "cell_type": "code",
   "execution_count": 109,
   "id": "ccede593",
   "metadata": {},
   "outputs": [
    {
     "data": {
      "text/plain": [
       "0.7472885032537961"
      ]
     },
     "execution_count": 109,
     "metadata": {},
     "output_type": "execute_result"
    }
   ],
   "source": [
    "f1_score_XG = f1_score(y_test,y_pred)\n",
    "f1_score_XG"
   ]
  },
  {
   "cell_type": "code",
   "execution_count": 110,
   "id": "ef97dcef",
   "metadata": {},
   "outputs": [
    {
     "data": {
      "text/plain": [
       "<sklearn.metrics._plot.roc_curve.RocCurveDisplay at 0x7f933a9464f0>"
      ]
     },
     "execution_count": 110,
     "metadata": {},
     "output_type": "execute_result"
    },
    {
     "data": {
      "image/png": "[encoded data removed]",
      "text/plain": [
       "<Figure size 432x288 with 1 Axes>"
      ]
     },
     "metadata": {
      "needs_background": "light"
     },
     "output_type": "display_data"
    }
   ],
   "source": [
    "plot_roc_curve(classifier_XG,X=x_test,y=y_test)"
   ]
  },
  {
   "cell_type": "code",
   "execution_count": 111,
   "id": "132f40b9",
   "metadata": {},
   "outputs": [
    {
     "name": "stdout",
     "output_type": "stream",
     "text": [
      "Recall score using XGBoost is 0.7505446623093682\n"
     ]
    }
   ],
   "source": [
    "recall_XG = recall_score(y_test,y_pred)\n",
    "print(f\"Recall score using XGBoost is {recall_XG}\")"
   ]
  },
  {
   "cell_type": "code",
   "execution_count": 112,
   "id": "5217dee7",
   "metadata": {},
   "outputs": [
    {
     "name": "stdout",
     "output_type": "stream",
     "text": [
      "Precision score using XGBoost is 0.744060475161987\n"
     ]
    }
   ],
   "source": [
    "precision_XG = precision_score(y_test,y_pred)\n",
    "print(f\"Precision score using XGBoost is {precision_XG}\")"
   ]
  },
  {
   "cell_type": "markdown",
   "id": "23e1d092",
   "metadata": {},
   "source": [
    "# Finding the Best Model Based on Metrics and comparing them based on their performance "
   ]
  },
  {
   "cell_type": "code",
   "execution_count": 113,
   "id": "4e49217a",
   "metadata": {},
   "outputs": [
    {
     "data": {
      "text/html": [
       "<div>\n",
       "<style scoped>\n",
       "    .dataframe tbody tr th:only-of-type {\n",
       "        vertical-align: middle;\n",
       "    }\n",
       "\n",
       "    .dataframe tbody tr th {\n",
       "        vertical-align: top;\n",
       "    }\n",
       "\n",
       "    .dataframe thead th {\n",
       "        text-align: right;\n",
       "    }\n",
       "</style>\n",
       "<table border=\"1\" class=\"dataframe\">\n",
       "  <thead>\n",
       "    <tr style=\"text-align: right;\">\n",
       "      <th></th>\n",
       "      <th>Model</th>\n",
       "      <th>Test Accuracy</th>\n",
       "      <th>AUC Score</th>\n",
       "      <th>F1 Score</th>\n",
       "      <th>Recall Score</th>\n",
       "      <th>Precision Score</th>\n",
       "    </tr>\n",
       "  </thead>\n",
       "  <tbody>\n",
       "    <tr>\n",
       "      <th>0</th>\n",
       "      <td>Logistic Regression</td>\n",
       "      <td>0.751269</td>\n",
       "      <td>0.752419</td>\n",
       "      <td>0.749858</td>\n",
       "      <td>0.720044</td>\n",
       "      <td>0.782249</td>\n",
       "    </tr>\n",
       "    <tr>\n",
       "      <th>2</th>\n",
       "      <td>SVM</td>\n",
       "      <td>0.751269</td>\n",
       "      <td>0.751055</td>\n",
       "      <td>0.759148</td>\n",
       "      <td>0.757081</td>\n",
       "      <td>0.761227</td>\n",
       "    </tr>\n",
       "    <tr>\n",
       "      <th>3</th>\n",
       "      <td>Naive Bayes</td>\n",
       "      <td>0.740553</td>\n",
       "      <td>0.741790</td>\n",
       "      <td>0.738339</td>\n",
       "      <td>0.706972</td>\n",
       "      <td>0.772619</td>\n",
       "    </tr>\n",
       "    <tr>\n",
       "      <th>5</th>\n",
       "      <td>Random Forest</td>\n",
       "      <td>0.739989</td>\n",
       "      <td>0.739921</td>\n",
       "      <td>0.747120</td>\n",
       "      <td>0.741830</td>\n",
       "      <td>0.752486</td>\n",
       "    </tr>\n",
       "    <tr>\n",
       "      <th>6</th>\n",
       "      <td>XGBoost</td>\n",
       "      <td>0.737169</td>\n",
       "      <td>0.736676</td>\n",
       "      <td>0.747289</td>\n",
       "      <td>0.750545</td>\n",
       "      <td>0.744060</td>\n",
       "    </tr>\n",
       "    <tr>\n",
       "      <th>4</th>\n",
       "      <td>Decision Tree</td>\n",
       "      <td>0.732657</td>\n",
       "      <td>0.732439</td>\n",
       "      <td>0.740984</td>\n",
       "      <td>0.738562</td>\n",
       "      <td>0.743421</td>\n",
       "    </tr>\n",
       "    <tr>\n",
       "      <th>1</th>\n",
       "      <td>KNN</td>\n",
       "      <td>0.711788</td>\n",
       "      <td>0.711765</td>\n",
       "      <td>0.719076</td>\n",
       "      <td>0.712418</td>\n",
       "      <td>0.725860</td>\n",
       "    </tr>\n",
       "  </tbody>\n",
       "</table>\n",
       "</div>"
      ],
      "text/plain": [
       "                 Model  Test Accuracy  AUC Score  F1 Score  Recall Score  \\\n",
       "0  Logistic Regression       0.751269   0.752419  0.749858      0.720044   \n",
       "2                  SVM       0.751269   0.751055  0.759148      0.757081   \n",
       "3          Naive Bayes       0.740553   0.741790  0.738339      0.706972   \n",
       "5        Random Forest       0.739989   0.739921  0.747120      0.741830   \n",
       "6              XGBoost       0.737169   0.736676  0.747289      0.750545   \n",
       "4        Decision Tree       0.732657   0.732439  0.740984      0.738562   \n",
       "1                  KNN       0.711788   0.711765  0.719076      0.712418   \n",
       "\n",
       "   Precision Score  \n",
       "0         0.782249  \n",
       "2         0.761227  \n",
       "3         0.772619  \n",
       "5         0.752486  \n",
       "6         0.744060  \n",
       "4         0.743421  \n",
       "1         0.725860  "
      ]
     },
     "execution_count": 113,
     "metadata": {},
     "output_type": "execute_result"
    }
   ],
   "source": [
    "model_accuracy = {'Model':pd.Series(['Logistic Regression','KNN','SVM','Naive Bayes','Decision Tree','Random Forest','XGBoost']),\n",
    "                  'Test Accuracy':pd.Series([acc_LR,acc_KNN,acc_SVC,acc_NB,acc_DT,acc_RF,acc_XG]),\n",
    "                  'AUC Score':pd.Series([auc_LR,auc_KNN,auc_SVC,auc_NB,auc_DT,auc_RF,auc_XG]),\n",
    "                  'F1 Score':pd.Series([f1_score_LR,f1_score_KNN,f1_score_SVC,f1_score_NB,f1_score_DT,f1_score_RF,f1_score_XG]),\n",
    "                  'Recall Score':pd.Series([recall_LR,recall_KNN,recall_SVC,recall_NB,recall_DT,recall_RF,recall_XG]),\n",
    "                  'Precision Score':pd.Series([precision_LR,precision_KNN,precision_SVC,precision_NB,precision_DT,precision_RF,precision_XG])}\n",
    "\n",
    "metrics_table=pd.DataFrame(model_accuracy)\n",
    "metrics_table.sort_values(['AUC Score','F1 Score'],ascending=False)"
   ]
  },
  {
   "cell_type": "markdown",
   "id": "e0c8fd44",
   "metadata": {},
   "source": [
    "# Deploying the Model - SVM"
   ]
  },
  {
   "cell_type": "code",
   "execution_count": 114,
   "id": "1b4bba2a",
   "metadata": {},
   "outputs": [],
   "source": [
    "from pickle import dump\n",
    "from pickle import load"
   ]
  },
  {
   "cell_type": "code",
   "execution_count": 115,
   "id": "e64d8bcf",
   "metadata": {},
   "outputs": [],
   "source": [
    "dump(classifier_SVC,open('SVC.sav','wb'))"
   ]
  },
  {
   "cell_type": "code",
   "execution_count": 116,
   "id": "a5531285",
   "metadata": {},
   "outputs": [
    {
     "name": "stdout",
     "output_type": "stream",
     "text": [
      "0.7486033519553073\n"
     ]
    }
   ],
   "source": [
    "loaded_model = load(open('SVC.sav','rb'))\n",
    "result = loaded_model.score(X,Y)\n",
    "print(result)"
   ]
  },
  {
   "cell_type": "code",
   "execution_count": null,
   "id": "9ea6cffd",
   "metadata": {},
   "outputs": [
    {
     "name": "stdout",
     "output_type": "stream",
     "text": [
      "\u001b[0m\n",
      "\u001b[34m\u001b[1m  You can now view your Streamlit app in your browser.\u001b[0m\n",
      "\u001b[0m\n",
      "\u001b[34m  Local URL: \u001b[0m\u001b[1mhttp://localhost:8501\u001b[0m\n",
      "\u001b[34m  Network URL: \u001b[0m\u001b[1mhttp://192.168.29.152:8501\u001b[0m\n",
      "\u001b[0m\n",
      "[1]\n"
     ]
    }
   ],
   "source": [
    "!streamlit run appupdated.py"
   ]
  },
  {
   "cell_type": "code",
   "execution_count": 2,
   "id": "aac26c7e",
   "metadata": {},
   "outputs": [],
   "source": []
  },
  {
   "cell_type": "code",
   "execution_count": null,
   "id": "b7bb79d8",
   "metadata": {},
   "outputs": [],
   "source": []
  }
 ],
 "metadata": {
  "kernelspec": {
   "display_name": "Python 3 (ipykernel)",
   "language": "python",
   "name": "python3"
  },
  "language_info": {
   "codemirror_mode": {
    "name": "ipython",
    "version": 3
   },
   "file_extension": ".py",
   "mimetype": "text/x-python",
   "name": "python",
   "nbconvert_exporter": "python",
   "pygments_lexer": "ipython3",
   "version": "3.9.13"
  }
 },
 "nbformat": 4,
 "nbformat_minor": 5
}
